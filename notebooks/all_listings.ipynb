{
 "cells": [
  {
   "cell_type": "code",
   "execution_count": 27,
   "metadata": {},
   "outputs": [],
   "source": [
    "import pandas as pd\n",
    "from datetime import datetime, timedelta"
   ]
  },
  {
   "cell_type": "code",
   "execution_count": 28,
   "metadata": {},
   "outputs": [],
   "source": [
    "all_apes = pd.read_csv('../csvs/all_the_apes.csv')"
   ]
  },
  {
   "cell_type": "code",
   "execution_count": 29,
   "metadata": {},
   "outputs": [],
   "source": [
    "all_listings = pd.read_csv('../all_listings.csv')"
   ]
  },
  {
   "cell_type": "code",
   "execution_count": 47,
   "metadata": {},
   "outputs": [],
   "source": [
    "all_canc = pd.read_csv('../all_canc.csv')"
   ]
  },
  {
   "cell_type": "code",
   "execution_count": 74,
   "metadata": {},
   "outputs": [],
   "source": [
    "all_canc.canc_event_time = all_canc.canc_event_time.astype(\"datetime64[ns]\")"
   ]
  },
  {
   "cell_type": "code",
   "execution_count": 30,
   "metadata": {},
   "outputs": [],
   "source": [
    "all_listings = all_listings.merge(all_apes, left_on='ape_id', right_on='ape_id', how='left')"
   ]
  },
  {
   "cell_type": "code",
   "execution_count": 31,
   "metadata": {},
   "outputs": [],
   "source": [
    "all_sales = pd.read_csv('../all_sales.csv')\n",
    "all_sales.sale_time = all_sales.sale_time.astype(\"datetime64[ns]\")"
   ]
  },
  {
   "cell_type": "code",
   "execution_count": 32,
   "metadata": {},
   "outputs": [],
   "source": [
    "all_sales = all_sales[all_sales.sale_time > datetime(2021, 10, 1)]"
   ]
  },
  {
   "cell_type": "code",
   "execution_count": 33,
   "metadata": {},
   "outputs": [],
   "source": [
    "all_sales = all_sales.merge(all_apes, left_on='ape_id', right_on='ape_id', how='left')"
   ]
  },
  {
   "cell_type": "code",
   "execution_count": 34,
   "metadata": {},
   "outputs": [],
   "source": [
    "all_listings.listing_event_time = all_listings.listing_event_time.astype(\"datetime64[ns]\")"
   ]
  },
  {
   "cell_type": "code",
   "execution_count": 86,
   "metadata": {},
   "outputs": [],
   "source": [
    "#all_listings[all_listings.listing_event_time == all_listings.listing_event_time.max()]\n",
    "def get_max_listing(apes):\n",
    "    return apes[apes.listing_event_time == apes.listing_event_time.max()]"
   ]
  },
  {
   "cell_type": "code",
   "execution_count": 87,
   "metadata": {},
   "outputs": [],
   "source": [
    "recent_listings = all_listings.groupby('ape_id').apply(get_max_listing).reset_index(drop=True)"
   ]
  },
  {
   "cell_type": "code",
   "execution_count": 88,
   "metadata": {},
   "outputs": [],
   "source": [
    "#all_listings[all_listings.listing_event_time == all_listings.listing_event_time.max()]\n",
    "def get_max_canc(apes):\n",
    "    return apes[apes.canc_event_time == apes.canc_event_time.max()]"
   ]
  },
  {
   "cell_type": "code",
   "execution_count": 89,
   "metadata": {},
   "outputs": [],
   "source": [
    "recent_canc = all_canc.groupby('ape_id').apply(get_max_canc).reset_index(drop=True)"
   ]
  },
  {
   "cell_type": "code",
   "execution_count": 37,
   "metadata": {},
   "outputs": [],
   "source": [
    "#calcualtes the mean sale for a ape mouths\n",
    "total_mean = all_sales.sale_price.mean()\n",
    "\n",
    "df_mouth = pd.DataFrame()\n",
    "\n",
    "#loops through each mouth trait\n",
    "for mouth in all_sales.Mouth.unique():\n",
    "\n",
    "    #calcualte the rarity of trair as %\n",
    "    rarity_perc = (all_apes[all_apes.Mouth == mouth].shape[0] / 10000) * 100\n",
    "\n",
    "    #mean sale of that trait\n",
    "    mean = all_sales[all_sales.Mouth == mouth].sale_price.mean()\n",
    "\n",
    "    #create a object with trait, rarity and diff from avg\n",
    "    df_mouth = df_mouth.append({\n",
    "        'mouth': mouth,\n",
    "        'mean': mean,\n",
    "        'diff':  mean - total_mean,\n",
    "        'rarity': rarity_perc\n",
    "    }, ignore_index=True)"
   ]
  },
  {
   "cell_type": "code",
   "execution_count": 104,
   "metadata": {},
   "outputs": [
    {
     "data": {
      "text/html": [
       "<div>\n",
       "<style scoped>\n",
       "    .dataframe tbody tr th:only-of-type {\n",
       "        vertical-align: middle;\n",
       "    }\n",
       "\n",
       "    .dataframe tbody tr th {\n",
       "        vertical-align: top;\n",
       "    }\n",
       "\n",
       "    .dataframe thead th {\n",
       "        text-align: right;\n",
       "    }\n",
       "</style>\n",
       "<table border=\"1\" class=\"dataframe\">\n",
       "  <thead>\n",
       "    <tr style=\"text-align: right;\">\n",
       "      <th></th>\n",
       "      <th>diff</th>\n",
       "      <th>mean</th>\n",
       "      <th>mouth</th>\n",
       "      <th>rarity</th>\n",
       "    </tr>\n",
       "  </thead>\n",
       "  <tbody>\n",
       "    <tr>\n",
       "      <th>0</th>\n",
       "      <td>-0.075341</td>\n",
       "      <td>0.784806</td>\n",
       "      <td>Grin Gold</td>\n",
       "      <td>3.09</td>\n",
       "    </tr>\n",
       "    <tr>\n",
       "      <th>1</th>\n",
       "      <td>-0.130552</td>\n",
       "      <td>0.729595</td>\n",
       "      <td>Snake</td>\n",
       "      <td>3.30</td>\n",
       "    </tr>\n",
       "    <tr>\n",
       "      <th>2</th>\n",
       "      <td>-0.015636</td>\n",
       "      <td>0.844511</td>\n",
       "      <td>Grillz</td>\n",
       "      <td>3.78</td>\n",
       "    </tr>\n",
       "    <tr>\n",
       "      <th>3</th>\n",
       "      <td>-0.046200</td>\n",
       "      <td>0.813947</td>\n",
       "      <td>Yawn</td>\n",
       "      <td>3.29</td>\n",
       "    </tr>\n",
       "    <tr>\n",
       "      <th>4</th>\n",
       "      <td>-0.100053</td>\n",
       "      <td>0.760094</td>\n",
       "      <td>Cigarette</td>\n",
       "      <td>3.23</td>\n",
       "    </tr>\n",
       "    <tr>\n",
       "      <th>5</th>\n",
       "      <td>0.054647</td>\n",
       "      <td>0.914794</td>\n",
       "      <td>Mustache</td>\n",
       "      <td>3.02</td>\n",
       "    </tr>\n",
       "    <tr>\n",
       "      <th>6</th>\n",
       "      <td>-0.032055</td>\n",
       "      <td>0.828092</td>\n",
       "      <td>Tongue Out</td>\n",
       "      <td>3.16</td>\n",
       "    </tr>\n",
       "    <tr>\n",
       "      <th>7</th>\n",
       "      <td>0.122524</td>\n",
       "      <td>0.982671</td>\n",
       "      <td>Flames</td>\n",
       "      <td>3.41</td>\n",
       "    </tr>\n",
       "    <tr>\n",
       "      <th>8</th>\n",
       "      <td>-0.056906</td>\n",
       "      <td>0.803241</td>\n",
       "      <td>Bubble Gum</td>\n",
       "      <td>2.80</td>\n",
       "    </tr>\n",
       "    <tr>\n",
       "      <th>9</th>\n",
       "      <td>NaN</td>\n",
       "      <td>NaN</td>\n",
       "      <td>NaN</td>\n",
       "      <td>0.00</td>\n",
       "    </tr>\n",
       "    <tr>\n",
       "      <th>10</th>\n",
       "      <td>-0.024486</td>\n",
       "      <td>0.835661</td>\n",
       "      <td>Grin Rainbow</td>\n",
       "      <td>3.27</td>\n",
       "    </tr>\n",
       "    <tr>\n",
       "      <th>11</th>\n",
       "      <td>-0.106926</td>\n",
       "      <td>0.753222</td>\n",
       "      <td>Covid Mask</td>\n",
       "      <td>2.90</td>\n",
       "    </tr>\n",
       "    <tr>\n",
       "      <th>12</th>\n",
       "      <td>-0.069873</td>\n",
       "      <td>0.790274</td>\n",
       "      <td>Drool Rainbow</td>\n",
       "      <td>3.26</td>\n",
       "    </tr>\n",
       "    <tr>\n",
       "      <th>13</th>\n",
       "      <td>-0.012626</td>\n",
       "      <td>0.847521</td>\n",
       "      <td>Smoke Pipe</td>\n",
       "      <td>3.11</td>\n",
       "    </tr>\n",
       "    <tr>\n",
       "      <th>14</th>\n",
       "      <td>0.018221</td>\n",
       "      <td>0.878368</td>\n",
       "      <td>Baby Pacifier</td>\n",
       "      <td>3.37</td>\n",
       "    </tr>\n",
       "    <tr>\n",
       "      <th>15</th>\n",
       "      <td>-0.027807</td>\n",
       "      <td>0.832340</td>\n",
       "      <td>Nose Ring</td>\n",
       "      <td>3.18</td>\n",
       "    </tr>\n",
       "    <tr>\n",
       "      <th>16</th>\n",
       "      <td>-0.128238</td>\n",
       "      <td>0.731909</td>\n",
       "      <td>Shocked</td>\n",
       "      <td>3.17</td>\n",
       "    </tr>\n",
       "    <tr>\n",
       "      <th>17</th>\n",
       "      <td>-0.068154</td>\n",
       "      <td>0.791993</td>\n",
       "      <td>Corn</td>\n",
       "      <td>3.26</td>\n",
       "    </tr>\n",
       "    <tr>\n",
       "      <th>18</th>\n",
       "      <td>0.026029</td>\n",
       "      <td>0.886176</td>\n",
       "      <td>Angry</td>\n",
       "      <td>3.09</td>\n",
       "    </tr>\n",
       "    <tr>\n",
       "      <th>19</th>\n",
       "      <td>0.073932</td>\n",
       "      <td>0.934079</td>\n",
       "      <td>Joint</td>\n",
       "      <td>3.25</td>\n",
       "    </tr>\n",
       "    <tr>\n",
       "      <th>20</th>\n",
       "      <td>-0.101786</td>\n",
       "      <td>0.758361</td>\n",
       "      <td>Beard</td>\n",
       "      <td>3.09</td>\n",
       "    </tr>\n",
       "    <tr>\n",
       "      <th>21</th>\n",
       "      <td>0.029640</td>\n",
       "      <td>0.889787</td>\n",
       "      <td>Joker</td>\n",
       "      <td>1.71</td>\n",
       "    </tr>\n",
       "    <tr>\n",
       "      <th>22</th>\n",
       "      <td>-0.021308</td>\n",
       "      <td>0.838839</td>\n",
       "      <td>Oh</td>\n",
       "      <td>2.86</td>\n",
       "    </tr>\n",
       "  </tbody>\n",
       "</table>\n",
       "</div>"
      ],
      "text/plain": [
       "        diff      mean          mouth  rarity\n",
       "0  -0.075341  0.784806      Grin Gold    3.09\n",
       "1  -0.130552  0.729595          Snake    3.30\n",
       "2  -0.015636  0.844511         Grillz    3.78\n",
       "3  -0.046200  0.813947           Yawn    3.29\n",
       "4  -0.100053  0.760094      Cigarette    3.23\n",
       "5   0.054647  0.914794       Mustache    3.02\n",
       "6  -0.032055  0.828092     Tongue Out    3.16\n",
       "7   0.122524  0.982671         Flames    3.41\n",
       "8  -0.056906  0.803241     Bubble Gum    2.80\n",
       "9        NaN       NaN            NaN    0.00\n",
       "10 -0.024486  0.835661   Grin Rainbow    3.27\n",
       "11 -0.106926  0.753222     Covid Mask    2.90\n",
       "12 -0.069873  0.790274  Drool Rainbow    3.26\n",
       "13 -0.012626  0.847521     Smoke Pipe    3.11\n",
       "14  0.018221  0.878368  Baby Pacifier    3.37\n",
       "15 -0.027807  0.832340      Nose Ring    3.18\n",
       "16 -0.128238  0.731909        Shocked    3.17\n",
       "17 -0.068154  0.791993           Corn    3.26\n",
       "18  0.026029  0.886176          Angry    3.09\n",
       "19  0.073932  0.934079          Joint    3.25\n",
       "20 -0.101786  0.758361          Beard    3.09\n",
       "21  0.029640  0.889787          Joker    1.71\n",
       "22 -0.021308  0.838839             Oh    2.86"
      ]
     },
     "execution_count": 104,
     "metadata": {},
     "output_type": "execute_result"
    }
   ],
   "source": [
    "df_mouth"
   ]
  },
  {
   "cell_type": "code",
   "execution_count": 105,
   "metadata": {},
   "outputs": [],
   "source": [
    "cheapest_listing = all_listings[all_listings.Mouth == 'Covid Mask'].sort_values(by='listing_price', ascending=True).head(1)\n",
    "\n",
    "#get the lowest listing price and compare to the mean\n",
    "\n",
    "#if listings price is lower than mean, select\n"
   ]
  },
  {
   "cell_type": "code",
   "execution_count": 102,
   "metadata": {},
   "outputs": [],
   "source": [
    "#check to make sure ape listing is not canc or sold\n",
    "def is_still_listed(ape):\n",
    "    ape_id = cheapest_listing.ape_id.item()\n",
    "    ape_canc = recent_canc[recent_canc.ape_id == ape_id]\n",
    "\n",
    "    has_canc = ape_canc.canc_event_time.item() > cheapest_listing.listing_event_time.item()\n",
    "    \n",
    "    ape_sale = all_sales[all_sales.ape_id == ape_id]\n",
    "\n",
    "    has_sold = ape_sale.sale_time.item() > cheapest_listing.listing_event_time.item()\n",
    "\n",
    "    if has_canc or has_sold:\n",
    "        return False\n",
    "    \n",
    "    return True"
   ]
  },
  {
   "cell_type": "code",
   "execution_count": 106,
   "metadata": {},
   "outputs": [
    {
     "data": {
      "text/plain": [
       "False"
      ]
     },
     "execution_count": 106,
     "metadata": {},
     "output_type": "execute_result"
    }
   ],
   "source": [
    "is_still_listed(cheapest_listing)"
   ]
  },
  {
   "cell_type": "code",
   "execution_count": 107,
   "metadata": {},
   "outputs": [
    {
     "data": {
      "text/html": [
       "<div>\n",
       "<style scoped>\n",
       "    .dataframe tbody tr th:only-of-type {\n",
       "        vertical-align: middle;\n",
       "    }\n",
       "\n",
       "    .dataframe tbody tr th {\n",
       "        vertical-align: top;\n",
       "    }\n",
       "\n",
       "    .dataframe thead th {\n",
       "        text-align: right;\n",
       "    }\n",
       "</style>\n",
       "<table border=\"1\" class=\"dataframe\">\n",
       "  <thead>\n",
       "    <tr style=\"text-align: right;\">\n",
       "      <th></th>\n",
       "      <th>Unnamed: 0_x</th>\n",
       "      <th>ape_id</th>\n",
       "      <th>listing_event_id</th>\n",
       "      <th>listing_event_time</th>\n",
       "      <th>listing_price</th>\n",
       "      <th>Unnamed: 0_y</th>\n",
       "      <th>Clothes</th>\n",
       "      <th>Ears</th>\n",
       "      <th>Hat</th>\n",
       "      <th>Fur</th>\n",
       "      <th>Mouth</th>\n",
       "      <th>Eyes</th>\n",
       "    </tr>\n",
       "  </thead>\n",
       "  <tbody>\n",
       "    <tr>\n",
       "      <th>9866</th>\n",
       "      <td>0</td>\n",
       "      <td>ApeGang #1448</td>\n",
       "      <td>1200491080</td>\n",
       "      <td>2021-10-02 04:33:00.999717</td>\n",
       "      <td>0.3</td>\n",
       "      <td>7190</td>\n",
       "      <td>NaN</td>\n",
       "      <td>Airpods</td>\n",
       "      <td>Cap</td>\n",
       "      <td>Brown</td>\n",
       "      <td>Covid Mask</td>\n",
       "      <td>High</td>\n",
       "    </tr>\n",
       "  </tbody>\n",
       "</table>\n",
       "</div>"
      ],
      "text/plain": [
       "      Unnamed: 0_x         ape_id  listing_event_id  \\\n",
       "9866             0  ApeGang #1448        1200491080   \n",
       "\n",
       "             listing_event_time  listing_price  Unnamed: 0_y Clothes     Ears  \\\n",
       "9866 2021-10-02 04:33:00.999717            0.3          7190     NaN  Airpods   \n",
       "\n",
       "      Hat    Fur       Mouth  Eyes  \n",
       "9866  Cap  Brown  Covid Mask  High  "
      ]
     },
     "execution_count": 107,
     "metadata": {},
     "output_type": "execute_result"
    }
   ],
   "source": [
    "cheapest_listing"
   ]
  },
  {
   "cell_type": "code",
   "execution_count": null,
   "metadata": {},
   "outputs": [],
   "source": []
  }
 ],
 "metadata": {
  "interpreter": {
   "hash": "d350f589df2bc36d70cf342ebcc55eca487ae98f642e153f0522f552a885c569"
  },
  "kernelspec": {
   "display_name": "Python 3.8.8 64-bit ('base': conda)",
   "name": "python3"
  },
  "language_info": {
   "codemirror_mode": {
    "name": "ipython",
    "version": 3
   },
   "file_extension": ".py",
   "mimetype": "text/x-python",
   "name": "python",
   "nbconvert_exporter": "python",
   "pygments_lexer": "ipython3",
   "version": "3.8.8"
  },
  "orig_nbformat": 4
 },
 "nbformat": 4,
 "nbformat_minor": 2
}
