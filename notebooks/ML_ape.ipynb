{
 "cells": [
  {
   "cell_type": "code",
   "execution_count": 30,
   "metadata": {},
   "outputs": [],
   "source": [
    "import pandas as pd\n",
    "import datetime as dt\n",
    "from sklearn.preprocessing import StandardScaler\n",
    "from sklearn.model_selection import train_test_split\n"
   ]
  },
  {
   "cell_type": "code",
   "execution_count": 31,
   "metadata": {},
   "outputs": [
    {
     "data": {
      "text/html": [
       "<div>\n",
       "<style scoped>\n",
       "    .dataframe tbody tr th:only-of-type {\n",
       "        vertical-align: middle;\n",
       "    }\n",
       "\n",
       "    .dataframe tbody tr th {\n",
       "        vertical-align: top;\n",
       "    }\n",
       "\n",
       "    .dataframe thead th {\n",
       "        text-align: right;\n",
       "    }\n",
       "</style>\n",
       "<table border=\"1\" class=\"dataframe\">\n",
       "  <thead>\n",
       "    <tr style=\"text-align: right;\">\n",
       "      <th></th>\n",
       "      <th>Unnamed: 0</th>\n",
       "      <th>Unnamed: 0.1</th>\n",
       "      <th>Unnamed: 0.1.1</th>\n",
       "      <th>Unnamed: 0.1.1.1.1.1</th>\n",
       "      <th>sale_id</th>\n",
       "      <th>ape_id</th>\n",
       "      <th>sale_price</th>\n",
       "      <th>sale_time</th>\n",
       "      <th>seller_name</th>\n",
       "      <th>seller_wallet</th>\n",
       "      <th>buyer_name</th>\n",
       "      <th>buyer_wallet</th>\n",
       "    </tr>\n",
       "  </thead>\n",
       "  <tbody>\n",
       "    <tr>\n",
       "      <th>0</th>\n",
       "      <td>0</td>\n",
       "      <td>0.0</td>\n",
       "      <td>0.0</td>\n",
       "      <td>0.0</td>\n",
       "      <td>1470246435</td>\n",
       "      <td>ApeGang #4226</td>\n",
       "      <td>0.490</td>\n",
       "      <td>2021-10-21 08:27:51.055386</td>\n",
       "      <td>NaN</td>\n",
       "      <td>0xf25018fbf9d07db0e02c36824da7b444bb3c2379</td>\n",
       "      <td>diogopunk3</td>\n",
       "      <td>0xf3ba73e6d3d19cf0405486db3d44404c35b78b80</td>\n",
       "    </tr>\n",
       "    <tr>\n",
       "      <th>1</th>\n",
       "      <td>1</td>\n",
       "      <td>1.0</td>\n",
       "      <td>1.0</td>\n",
       "      <td>0.0</td>\n",
       "      <td>1469983558</td>\n",
       "      <td>ApeGang #9793</td>\n",
       "      <td>0.002</td>\n",
       "      <td>2021-10-21 08:01:12.181661</td>\n",
       "      <td>NaN</td>\n",
       "      <td>0x02dd1c87ccd51bfd12c5e4c04eb3ed9224ea9400</td>\n",
       "      <td>NaN</td>\n",
       "      <td>0x1d516bdec43122415726b676796736caa3cd319d</td>\n",
       "    </tr>\n",
       "    <tr>\n",
       "      <th>2</th>\n",
       "      <td>2</td>\n",
       "      <td>2.0</td>\n",
       "      <td>2.0</td>\n",
       "      <td>0.0</td>\n",
       "      <td>1468894965</td>\n",
       "      <td>ApeGang #2196</td>\n",
       "      <td>0.500</td>\n",
       "      <td>2021-10-21 06:11:33.290535</td>\n",
       "      <td>NaN</td>\n",
       "      <td>0x9fe59ab5ac6c00a80f5c05acd3071a22b61f25bf</td>\n",
       "      <td>GeeMoney</td>\n",
       "      <td>0x0f9ac6fdbc287c7b8d29a139845963e4f513fe15</td>\n",
       "    </tr>\n",
       "    <tr>\n",
       "      <th>3</th>\n",
       "      <td>3</td>\n",
       "      <td>3.0</td>\n",
       "      <td>3.0</td>\n",
       "      <td>0.0</td>\n",
       "      <td>1468769122</td>\n",
       "      <td>ApeGang #2061</td>\n",
       "      <td>0.490</td>\n",
       "      <td>2021-10-21 05:59:06.139219</td>\n",
       "      <td>NaN</td>\n",
       "      <td>0x82b04eb793777a10de5e54b6235396e60d0e4b5f</td>\n",
       "      <td>NaN</td>\n",
       "      <td>0xcfb398f869dab6f1c70c5afb6728612fad06fa8c</td>\n",
       "    </tr>\n",
       "    <tr>\n",
       "      <th>4</th>\n",
       "      <td>4</td>\n",
       "      <td>4.0</td>\n",
       "      <td>4.0</td>\n",
       "      <td>0.0</td>\n",
       "      <td>1468061535</td>\n",
       "      <td>ApeGang #8081</td>\n",
       "      <td>0.500</td>\n",
       "      <td>2021-10-21 04:51:32.215490</td>\n",
       "      <td>NaN</td>\n",
       "      <td>0x4f3553aa0789cbfffa469758284190cd072163bc</td>\n",
       "      <td>NaN</td>\n",
       "      <td>0xaab5612de1413e7ceb0f5deaaf27d3f85852b3b9</td>\n",
       "    </tr>\n",
       "  </tbody>\n",
       "</table>\n",
       "</div>"
      ],
      "text/plain": [
       "   Unnamed: 0  Unnamed: 0.1  Unnamed: 0.1.1  Unnamed: 0.1.1.1.1.1     sale_id  \\\n",
       "0           0           0.0             0.0                   0.0  1470246435   \n",
       "1           1           1.0             1.0                   0.0  1469983558   \n",
       "2           2           2.0             2.0                   0.0  1468894965   \n",
       "3           3           3.0             3.0                   0.0  1468769122   \n",
       "4           4           4.0             4.0                   0.0  1468061535   \n",
       "\n",
       "          ape_id  sale_price                  sale_time  seller_name  \\\n",
       "0  ApeGang #4226       0.490 2021-10-21 08:27:51.055386          NaN   \n",
       "1  ApeGang #9793       0.002 2021-10-21 08:01:12.181661          NaN   \n",
       "2  ApeGang #2196       0.500 2021-10-21 06:11:33.290535          NaN   \n",
       "3  ApeGang #2061       0.490 2021-10-21 05:59:06.139219          NaN   \n",
       "4  ApeGang #8081       0.500 2021-10-21 04:51:32.215490          NaN   \n",
       "\n",
       "                                seller_wallet  buyer_name  \\\n",
       "0  0xf25018fbf9d07db0e02c36824da7b444bb3c2379  diogopunk3   \n",
       "1  0x02dd1c87ccd51bfd12c5e4c04eb3ed9224ea9400         NaN   \n",
       "2  0x9fe59ab5ac6c00a80f5c05acd3071a22b61f25bf    GeeMoney   \n",
       "3  0x82b04eb793777a10de5e54b6235396e60d0e4b5f         NaN   \n",
       "4  0x4f3553aa0789cbfffa469758284190cd072163bc         NaN   \n",
       "\n",
       "                                 buyer_wallet  \n",
       "0  0xf3ba73e6d3d19cf0405486db3d44404c35b78b80  \n",
       "1  0x1d516bdec43122415726b676796736caa3cd319d  \n",
       "2  0x0f9ac6fdbc287c7b8d29a139845963e4f513fe15  \n",
       "3  0xcfb398f869dab6f1c70c5afb6728612fad06fa8c  \n",
       "4  0xaab5612de1413e7ceb0f5deaaf27d3f85852b3b9  "
      ]
     },
     "execution_count": 31,
     "metadata": {},
     "output_type": "execute_result"
    }
   ],
   "source": [
    "sales = pd.read_csv('../csvs/all_sales.csv')\n",
    "sales.sale_time = sales.sale_time.astype(\"datetime64[ns]\")\n",
    "sales.head()"
   ]
  },
  {
   "cell_type": "code",
   "execution_count": 32,
   "metadata": {},
   "outputs": [
    {
     "data": {
      "text/plain": [
       "(10207, 12)"
      ]
     },
     "execution_count": 32,
     "metadata": {},
     "output_type": "execute_result"
    }
   ],
   "source": [
    "sales.shape"
   ]
  },
  {
   "cell_type": "code",
   "execution_count": 33,
   "metadata": {},
   "outputs": [
    {
     "data": {
      "text/plain": [
       "(5968, 12)"
      ]
     },
     "execution_count": 33,
     "metadata": {},
     "output_type": "execute_result"
    }
   ],
   "source": [
    "recent_sales = sales[sales.sale_time > dt.datetime(2021, 9, 1)]\n",
    "recent_sales.shape"
   ]
  },
  {
   "cell_type": "code",
   "execution_count": 34,
   "metadata": {},
   "outputs": [
    {
     "data": {
      "text/plain": [
       "(13, 12)"
      ]
     },
     "execution_count": 34,
     "metadata": {},
     "output_type": "execute_result"
    }
   ],
   "source": [
    "#how many cheap apes under .1ETH\n",
    "recent_sales[recent_sales['sale_price']<0.1].shape"
   ]
  },
  {
   "cell_type": "code",
   "execution_count": 35,
   "metadata": {},
   "outputs": [
    {
     "data": {
      "text/plain": [
       "(42, 12)"
      ]
     },
     "execution_count": 35,
     "metadata": {},
     "output_type": "execute_result"
    }
   ],
   "source": [
    "#How many expensive apes over 3 ETH\n",
    "recent_sales[recent_sales['sale_price']>3].shape"
   ]
  },
  {
   "cell_type": "code",
   "execution_count": 36,
   "metadata": {},
   "outputs": [
    {
     "data": {
      "text/plain": [
       "(10000, 8)"
      ]
     },
     "execution_count": 36,
     "metadata": {},
     "output_type": "execute_result"
    }
   ],
   "source": [
    "apes = pd.read_csv('../csvs/all_the_apes.csv')\n",
    "apes.head()\n",
    "apes.shape"
   ]
  },
  {
   "cell_type": "code",
   "execution_count": 37,
   "metadata": {},
   "outputs": [
    {
     "data": {
      "text/plain": [
       "(5968, 10)"
      ]
     },
     "execution_count": 37,
     "metadata": {},
     "output_type": "execute_result"
    }
   ],
   "source": [
    "ape_sales = recent_sales.merge(apes, on=\"ape_id\", how=\"left\")\n",
    "ape_sales = ape_sales[['ape_id','sale_price','sale_time','Clothes','Ears','Hat','Fur','Mouth','Eyes']]\n",
    "ape_sales['trait_n'] = ape_sales[['Clothes','Ears','Hat','Fur','Mouth','Eyes']].count(axis=1)\n",
    "ape_sales.shape"
   ]
  },
  {
   "cell_type": "code",
   "execution_count": 38,
   "metadata": {},
   "outputs": [],
   "source": [
    "ape_sales['day'] =ape_sales['sale_time'].dt.date\n",
    "sales_by_date = ape_sales.groupby('day').count().sale_price"
   ]
  },
  {
   "cell_type": "code",
   "execution_count": 39,
   "metadata": {},
   "outputs": [
    {
     "data": {
      "text/plain": [
       "(5963, 11)"
      ]
     },
     "execution_count": 39,
     "metadata": {},
     "output_type": "execute_result"
    }
   ],
   "source": [
    "ape_sales = ape_sales[ape_sales['sale_price']>0.01] \n",
    "ape_sales.shape"
   ]
  },
  {
   "cell_type": "code",
   "execution_count": 40,
   "metadata": {},
   "outputs": [
    {
     "data": {
      "text/html": [
       "<div>\n",
       "<style scoped>\n",
       "    .dataframe tbody tr th:only-of-type {\n",
       "        vertical-align: middle;\n",
       "    }\n",
       "\n",
       "    .dataframe tbody tr th {\n",
       "        vertical-align: top;\n",
       "    }\n",
       "\n",
       "    .dataframe thead th {\n",
       "        text-align: right;\n",
       "    }\n",
       "</style>\n",
       "<table border=\"1\" class=\"dataframe\">\n",
       "  <thead>\n",
       "    <tr style=\"text-align: right;\">\n",
       "      <th></th>\n",
       "      <th>ape_id</th>\n",
       "      <th>sale_price</th>\n",
       "      <th>sale_time</th>\n",
       "      <th>Clothes</th>\n",
       "      <th>Ears</th>\n",
       "      <th>Hat</th>\n",
       "      <th>Fur</th>\n",
       "      <th>Mouth</th>\n",
       "      <th>Eyes</th>\n",
       "      <th>trait_n</th>\n",
       "      <th>day</th>\n",
       "      <th>sale_price_daily_avg</th>\n",
       "    </tr>\n",
       "  </thead>\n",
       "  <tbody>\n",
       "    <tr>\n",
       "      <th>0</th>\n",
       "      <td>ApeGang #4226</td>\n",
       "      <td>0.49</td>\n",
       "      <td>2021-10-21 08:27:51.055386</td>\n",
       "      <td>Orange Striped T-Shirt</td>\n",
       "      <td>NaN</td>\n",
       "      <td>Green Beanie</td>\n",
       "      <td>Brown</td>\n",
       "      <td>Grin Gold</td>\n",
       "      <td>Diving Mask</td>\n",
       "      <td>5</td>\n",
       "      <td>2021-10-21</td>\n",
       "      <td>0.4825</td>\n",
       "    </tr>\n",
       "    <tr>\n",
       "      <th>2</th>\n",
       "      <td>ApeGang #2196</td>\n",
       "      <td>0.50</td>\n",
       "      <td>2021-10-21 06:11:33.290535</td>\n",
       "      <td>NaN</td>\n",
       "      <td>NaN</td>\n",
       "      <td>Yellow NBA Headband</td>\n",
       "      <td>Brown</td>\n",
       "      <td>Grillz</td>\n",
       "      <td>Hippie Glasses</td>\n",
       "      <td>4</td>\n",
       "      <td>2021-10-21</td>\n",
       "      <td>0.4825</td>\n",
       "    </tr>\n",
       "    <tr>\n",
       "      <th>3</th>\n",
       "      <td>ApeGang #2061</td>\n",
       "      <td>0.49</td>\n",
       "      <td>2021-10-21 05:59:06.139219</td>\n",
       "      <td>Hotel Porter</td>\n",
       "      <td>NaN</td>\n",
       "      <td>Brown Beanie</td>\n",
       "      <td>Brown</td>\n",
       "      <td>Yawn</td>\n",
       "      <td>NaN</td>\n",
       "      <td>4</td>\n",
       "      <td>2021-10-21</td>\n",
       "      <td>0.4825</td>\n",
       "    </tr>\n",
       "    <tr>\n",
       "      <th>4</th>\n",
       "      <td>ApeGang #8081</td>\n",
       "      <td>0.50</td>\n",
       "      <td>2021-10-21 04:51:32.215490</td>\n",
       "      <td>Military</td>\n",
       "      <td>NaN</td>\n",
       "      <td>NaN</td>\n",
       "      <td>Brown</td>\n",
       "      <td>Cigarette</td>\n",
       "      <td>Crazy</td>\n",
       "      <td>4</td>\n",
       "      <td>2021-10-21</td>\n",
       "      <td>0.4825</td>\n",
       "    </tr>\n",
       "    <tr>\n",
       "      <th>5</th>\n",
       "      <td>ApeGang #9884</td>\n",
       "      <td>0.48</td>\n",
       "      <td>2021-10-21 04:48:49.110108</td>\n",
       "      <td>Blue Hoodie</td>\n",
       "      <td>NaN</td>\n",
       "      <td>NaN</td>\n",
       "      <td>Zebra</td>\n",
       "      <td>Mustache</td>\n",
       "      <td>Monocle</td>\n",
       "      <td>4</td>\n",
       "      <td>2021-10-21</td>\n",
       "      <td>0.4825</td>\n",
       "    </tr>\n",
       "  </tbody>\n",
       "</table>\n",
       "</div>"
      ],
      "text/plain": [
       "          ape_id  sale_price                  sale_time  \\\n",
       "0  ApeGang #4226        0.49 2021-10-21 08:27:51.055386   \n",
       "2  ApeGang #2196        0.50 2021-10-21 06:11:33.290535   \n",
       "3  ApeGang #2061        0.49 2021-10-21 05:59:06.139219   \n",
       "4  ApeGang #8081        0.50 2021-10-21 04:51:32.215490   \n",
       "5  ApeGang #9884        0.48 2021-10-21 04:48:49.110108   \n",
       "\n",
       "                  Clothes Ears                  Hat    Fur      Mouth  \\\n",
       "0  Orange Striped T-Shirt  NaN         Green Beanie  Brown  Grin Gold   \n",
       "2                     NaN  NaN  Yellow NBA Headband  Brown     Grillz   \n",
       "3            Hotel Porter  NaN         Brown Beanie  Brown       Yawn   \n",
       "4                Military  NaN                  NaN  Brown  Cigarette   \n",
       "5             Blue Hoodie  NaN                  NaN  Zebra   Mustache   \n",
       "\n",
       "             Eyes  trait_n         day  sale_price_daily_avg  \n",
       "0     Diving Mask        5  2021-10-21                0.4825  \n",
       "2  Hippie Glasses        4  2021-10-21                0.4825  \n",
       "3             NaN        4  2021-10-21                0.4825  \n",
       "4           Crazy        4  2021-10-21                0.4825  \n",
       "5         Monocle        4  2021-10-21                0.4825  "
      ]
     },
     "execution_count": 40,
     "metadata": {},
     "output_type": "execute_result"
    }
   ],
   "source": [
    "ape_sales = ape_sales.join(ape_sales.groupby('day').median().sale_price, rsuffix='_daily_avg',on='day')\n",
    "ape_sales.head()"
   ]
  },
  {
   "cell_type": "code",
   "execution_count": 41,
   "metadata": {},
   "outputs": [
    {
     "data": {
      "text/html": [
       "<div>\n",
       "<style scoped>\n",
       "    .dataframe tbody tr th:only-of-type {\n",
       "        vertical-align: middle;\n",
       "    }\n",
       "\n",
       "    .dataframe tbody tr th {\n",
       "        vertical-align: top;\n",
       "    }\n",
       "\n",
       "    .dataframe thead th {\n",
       "        text-align: right;\n",
       "    }\n",
       "</style>\n",
       "<table border=\"1\" class=\"dataframe\">\n",
       "  <thead>\n",
       "    <tr style=\"text-align: right;\">\n",
       "      <th></th>\n",
       "      <th>ape_id</th>\n",
       "      <th>sale_price</th>\n",
       "      <th>sale_time</th>\n",
       "      <th>Clothes</th>\n",
       "      <th>Ears</th>\n",
       "      <th>Hat</th>\n",
       "      <th>Fur</th>\n",
       "      <th>Mouth</th>\n",
       "      <th>Eyes</th>\n",
       "      <th>trait_n</th>\n",
       "      <th>day</th>\n",
       "      <th>sale_price_daily_avg</th>\n",
       "      <th>price_diff</th>\n",
       "    </tr>\n",
       "  </thead>\n",
       "  <tbody>\n",
       "    <tr>\n",
       "      <th>0</th>\n",
       "      <td>ApeGang #4226</td>\n",
       "      <td>0.4900</td>\n",
       "      <td>2021-10-21 08:27:51.055386</td>\n",
       "      <td>Orange Striped T-Shirt</td>\n",
       "      <td>NaN</td>\n",
       "      <td>Green Beanie</td>\n",
       "      <td>Brown</td>\n",
       "      <td>Grin Gold</td>\n",
       "      <td>Diving Mask</td>\n",
       "      <td>5</td>\n",
       "      <td>2021-10-21</td>\n",
       "      <td>0.4825</td>\n",
       "      <td>0.0075</td>\n",
       "    </tr>\n",
       "    <tr>\n",
       "      <th>2</th>\n",
       "      <td>ApeGang #2196</td>\n",
       "      <td>0.5000</td>\n",
       "      <td>2021-10-21 06:11:33.290535</td>\n",
       "      <td>NaN</td>\n",
       "      <td>NaN</td>\n",
       "      <td>Yellow NBA Headband</td>\n",
       "      <td>Brown</td>\n",
       "      <td>Grillz</td>\n",
       "      <td>Hippie Glasses</td>\n",
       "      <td>4</td>\n",
       "      <td>2021-10-21</td>\n",
       "      <td>0.4825</td>\n",
       "      <td>0.0175</td>\n",
       "    </tr>\n",
       "    <tr>\n",
       "      <th>3</th>\n",
       "      <td>ApeGang #2061</td>\n",
       "      <td>0.4900</td>\n",
       "      <td>2021-10-21 05:59:06.139219</td>\n",
       "      <td>Hotel Porter</td>\n",
       "      <td>NaN</td>\n",
       "      <td>Brown Beanie</td>\n",
       "      <td>Brown</td>\n",
       "      <td>Yawn</td>\n",
       "      <td>NaN</td>\n",
       "      <td>4</td>\n",
       "      <td>2021-10-21</td>\n",
       "      <td>0.4825</td>\n",
       "      <td>0.0075</td>\n",
       "    </tr>\n",
       "    <tr>\n",
       "      <th>4</th>\n",
       "      <td>ApeGang #8081</td>\n",
       "      <td>0.5000</td>\n",
       "      <td>2021-10-21 04:51:32.215490</td>\n",
       "      <td>Military</td>\n",
       "      <td>NaN</td>\n",
       "      <td>NaN</td>\n",
       "      <td>Brown</td>\n",
       "      <td>Cigarette</td>\n",
       "      <td>Crazy</td>\n",
       "      <td>4</td>\n",
       "      <td>2021-10-21</td>\n",
       "      <td>0.4825</td>\n",
       "      <td>0.0175</td>\n",
       "    </tr>\n",
       "    <tr>\n",
       "      <th>5</th>\n",
       "      <td>ApeGang #9884</td>\n",
       "      <td>0.4800</td>\n",
       "      <td>2021-10-21 04:48:49.110108</td>\n",
       "      <td>Blue Hoodie</td>\n",
       "      <td>NaN</td>\n",
       "      <td>NaN</td>\n",
       "      <td>Zebra</td>\n",
       "      <td>Mustache</td>\n",
       "      <td>Monocle</td>\n",
       "      <td>4</td>\n",
       "      <td>2021-10-21</td>\n",
       "      <td>0.4825</td>\n",
       "      <td>-0.0025</td>\n",
       "    </tr>\n",
       "    <tr>\n",
       "      <th>6</th>\n",
       "      <td>ApeGang #8550</td>\n",
       "      <td>0.4880</td>\n",
       "      <td>2021-10-21 04:27:47.224107</td>\n",
       "      <td>NaN</td>\n",
       "      <td>Airpods</td>\n",
       "      <td>Green Beanie</td>\n",
       "      <td>Brown</td>\n",
       "      <td>Tongue Out</td>\n",
       "      <td>Hippie Glasses</td>\n",
       "      <td>5</td>\n",
       "      <td>2021-10-21</td>\n",
       "      <td>0.4825</td>\n",
       "      <td>0.0055</td>\n",
       "    </tr>\n",
       "    <tr>\n",
       "      <th>7</th>\n",
       "      <td>ApeGang #213</td>\n",
       "      <td>0.4890</td>\n",
       "      <td>2021-10-21 03:59:38.139868</td>\n",
       "      <td>NaN</td>\n",
       "      <td>NaN</td>\n",
       "      <td>NaN</td>\n",
       "      <td>Strong Dark Brown</td>\n",
       "      <td>Grin Gold</td>\n",
       "      <td>Eye Patch</td>\n",
       "      <td>3</td>\n",
       "      <td>2021-10-21</td>\n",
       "      <td>0.4825</td>\n",
       "      <td>0.0065</td>\n",
       "    </tr>\n",
       "    <tr>\n",
       "      <th>8</th>\n",
       "      <td>ApeGang #9884</td>\n",
       "      <td>0.3500</td>\n",
       "      <td>2021-10-21 03:18:02.664485</td>\n",
       "      <td>Blue Hoodie</td>\n",
       "      <td>NaN</td>\n",
       "      <td>NaN</td>\n",
       "      <td>Zebra</td>\n",
       "      <td>Mustache</td>\n",
       "      <td>Monocle</td>\n",
       "      <td>4</td>\n",
       "      <td>2021-10-21</td>\n",
       "      <td>0.4825</td>\n",
       "      <td>-0.1325</td>\n",
       "    </tr>\n",
       "    <tr>\n",
       "      <th>9</th>\n",
       "      <td>ApeGang #9526</td>\n",
       "      <td>0.4900</td>\n",
       "      <td>2021-10-21 02:48:50.804173</td>\n",
       "      <td>Lab Coat</td>\n",
       "      <td>NaN</td>\n",
       "      <td>Yellow NBA Headband</td>\n",
       "      <td>Brown</td>\n",
       "      <td>Cigarette</td>\n",
       "      <td>Bruised</td>\n",
       "      <td>5</td>\n",
       "      <td>2021-10-21</td>\n",
       "      <td>0.4825</td>\n",
       "      <td>0.0075</td>\n",
       "    </tr>\n",
       "    <tr>\n",
       "      <th>10</th>\n",
       "      <td>ApeGang #2158</td>\n",
       "      <td>0.8000</td>\n",
       "      <td>2021-10-21 02:30:24.757739</td>\n",
       "      <td>NaN</td>\n",
       "      <td>Diamond Stud</td>\n",
       "      <td>Nurse</td>\n",
       "      <td>Strong Dark Brown</td>\n",
       "      <td>Flames</td>\n",
       "      <td>Gold Sunglasses</td>\n",
       "      <td>5</td>\n",
       "      <td>2021-10-21</td>\n",
       "      <td>0.4825</td>\n",
       "      <td>0.3175</td>\n",
       "    </tr>\n",
       "    <tr>\n",
       "      <th>11</th>\n",
       "      <td>ApeGang #4430</td>\n",
       "      <td>0.9000</td>\n",
       "      <td>2021-10-21 02:25:45.488932</td>\n",
       "      <td>Mexican</td>\n",
       "      <td>Bluetooth Earpiece</td>\n",
       "      <td>Fisherman</td>\n",
       "      <td>Grey</td>\n",
       "      <td>Bubble Gum</td>\n",
       "      <td>Albino</td>\n",
       "      <td>6</td>\n",
       "      <td>2021-10-21</td>\n",
       "      <td>0.4825</td>\n",
       "      <td>0.4175</td>\n",
       "    </tr>\n",
       "    <tr>\n",
       "      <th>12</th>\n",
       "      <td>ApeGang #5122</td>\n",
       "      <td>0.4750</td>\n",
       "      <td>2021-10-21 02:21:39.923216</td>\n",
       "      <td>Black Suit</td>\n",
       "      <td>NaN</td>\n",
       "      <td>Brown Beanie</td>\n",
       "      <td>Brown</td>\n",
       "      <td>NaN</td>\n",
       "      <td>NaN</td>\n",
       "      <td>3</td>\n",
       "      <td>2021-10-21</td>\n",
       "      <td>0.4825</td>\n",
       "      <td>-0.0075</td>\n",
       "    </tr>\n",
       "    <tr>\n",
       "      <th>13</th>\n",
       "      <td>ApeGang #667</td>\n",
       "      <td>2.0000</td>\n",
       "      <td>2021-10-21 01:56:40.505297</td>\n",
       "      <td>Red NBA Jersey</td>\n",
       "      <td>NaN</td>\n",
       "      <td>Cowboy</td>\n",
       "      <td>Red Devil</td>\n",
       "      <td>Grin Rainbow</td>\n",
       "      <td>NaN</td>\n",
       "      <td>4</td>\n",
       "      <td>2021-10-21</td>\n",
       "      <td>0.4825</td>\n",
       "      <td>1.5175</td>\n",
       "    </tr>\n",
       "    <tr>\n",
       "      <th>14</th>\n",
       "      <td>ApeGang #3643</td>\n",
       "      <td>0.3851</td>\n",
       "      <td>2021-10-21 01:53:39.091997</td>\n",
       "      <td>Mexican</td>\n",
       "      <td>NaN</td>\n",
       "      <td>Propeller</td>\n",
       "      <td>Grey</td>\n",
       "      <td>NaN</td>\n",
       "      <td>NaN</td>\n",
       "      <td>3</td>\n",
       "      <td>2021-10-21</td>\n",
       "      <td>0.4825</td>\n",
       "      <td>-0.0974</td>\n",
       "    </tr>\n",
       "    <tr>\n",
       "      <th>15</th>\n",
       "      <td>ApeGang #5416</td>\n",
       "      <td>0.4000</td>\n",
       "      <td>2021-10-21 00:20:53.795738</td>\n",
       "      <td>Cop</td>\n",
       "      <td>NaN</td>\n",
       "      <td>Brain</td>\n",
       "      <td>Brown</td>\n",
       "      <td>Grillz</td>\n",
       "      <td>NaN</td>\n",
       "      <td>4</td>\n",
       "      <td>2021-10-21</td>\n",
       "      <td>0.4825</td>\n",
       "      <td>-0.0825</td>\n",
       "    </tr>\n",
       "    <tr>\n",
       "      <th>16</th>\n",
       "      <td>ApeGang #8465</td>\n",
       "      <td>0.5990</td>\n",
       "      <td>2021-10-21 00:18:46.914003</td>\n",
       "      <td>NaN</td>\n",
       "      <td>NaN</td>\n",
       "      <td>Flower Crown</td>\n",
       "      <td>Strong Dark Brown</td>\n",
       "      <td>Covid Mask</td>\n",
       "      <td>Robot</td>\n",
       "      <td>4</td>\n",
       "      <td>2021-10-21</td>\n",
       "      <td>0.4825</td>\n",
       "      <td>0.1165</td>\n",
       "    </tr>\n",
       "    <tr>\n",
       "      <th>17</th>\n",
       "      <td>ApeGang #4235</td>\n",
       "      <td>0.5700</td>\n",
       "      <td>2021-10-20 22:57:04.303753</td>\n",
       "      <td>Red Hawaiian Shirt</td>\n",
       "      <td>NaN</td>\n",
       "      <td>NaN</td>\n",
       "      <td>Brown</td>\n",
       "      <td>Drool Rainbow</td>\n",
       "      <td>Strabismus</td>\n",
       "      <td>4</td>\n",
       "      <td>2021-10-20</td>\n",
       "      <td>0.7000</td>\n",
       "      <td>-0.1300</td>\n",
       "    </tr>\n",
       "    <tr>\n",
       "      <th>18</th>\n",
       "      <td>ApeGang #8590</td>\n",
       "      <td>0.5500</td>\n",
       "      <td>2021-10-20 22:55:48.408082</td>\n",
       "      <td>Red Hawaiian Shirt</td>\n",
       "      <td>NaN</td>\n",
       "      <td>Rabbit Ears</td>\n",
       "      <td>Brown</td>\n",
       "      <td>Mustache</td>\n",
       "      <td>NaN</td>\n",
       "      <td>4</td>\n",
       "      <td>2021-10-20</td>\n",
       "      <td>0.7000</td>\n",
       "      <td>-0.1500</td>\n",
       "    </tr>\n",
       "    <tr>\n",
       "      <th>19</th>\n",
       "      <td>ApeGang #9367</td>\n",
       "      <td>0.5900</td>\n",
       "      <td>2021-10-20 22:38:22.628343</td>\n",
       "      <td>Cop</td>\n",
       "      <td>NaN</td>\n",
       "      <td>Nurse</td>\n",
       "      <td>Black</td>\n",
       "      <td>Smoke Pipe</td>\n",
       "      <td>Crazy</td>\n",
       "      <td>5</td>\n",
       "      <td>2021-10-20</td>\n",
       "      <td>0.7000</td>\n",
       "      <td>-0.1100</td>\n",
       "    </tr>\n",
       "    <tr>\n",
       "      <th>20</th>\n",
       "      <td>ApeGang #4796</td>\n",
       "      <td>0.5900</td>\n",
       "      <td>2021-10-20 22:36:02.566433</td>\n",
       "      <td>Mexican</td>\n",
       "      <td>Gold Hoop</td>\n",
       "      <td>Yellow NBA Headband</td>\n",
       "      <td>Cream</td>\n",
       "      <td>NaN</td>\n",
       "      <td>Robot</td>\n",
       "      <td>5</td>\n",
       "      <td>2021-10-20</td>\n",
       "      <td>0.7000</td>\n",
       "      <td>-0.1100</td>\n",
       "    </tr>\n",
       "  </tbody>\n",
       "</table>\n",
       "</div>"
      ],
      "text/plain": [
       "           ape_id  sale_price                  sale_time  \\\n",
       "0   ApeGang #4226      0.4900 2021-10-21 08:27:51.055386   \n",
       "2   ApeGang #2196      0.5000 2021-10-21 06:11:33.290535   \n",
       "3   ApeGang #2061      0.4900 2021-10-21 05:59:06.139219   \n",
       "4   ApeGang #8081      0.5000 2021-10-21 04:51:32.215490   \n",
       "5   ApeGang #9884      0.4800 2021-10-21 04:48:49.110108   \n",
       "6   ApeGang #8550      0.4880 2021-10-21 04:27:47.224107   \n",
       "7    ApeGang #213      0.4890 2021-10-21 03:59:38.139868   \n",
       "8   ApeGang #9884      0.3500 2021-10-21 03:18:02.664485   \n",
       "9   ApeGang #9526      0.4900 2021-10-21 02:48:50.804173   \n",
       "10  ApeGang #2158      0.8000 2021-10-21 02:30:24.757739   \n",
       "11  ApeGang #4430      0.9000 2021-10-21 02:25:45.488932   \n",
       "12  ApeGang #5122      0.4750 2021-10-21 02:21:39.923216   \n",
       "13   ApeGang #667      2.0000 2021-10-21 01:56:40.505297   \n",
       "14  ApeGang #3643      0.3851 2021-10-21 01:53:39.091997   \n",
       "15  ApeGang #5416      0.4000 2021-10-21 00:20:53.795738   \n",
       "16  ApeGang #8465      0.5990 2021-10-21 00:18:46.914003   \n",
       "17  ApeGang #4235      0.5700 2021-10-20 22:57:04.303753   \n",
       "18  ApeGang #8590      0.5500 2021-10-20 22:55:48.408082   \n",
       "19  ApeGang #9367      0.5900 2021-10-20 22:38:22.628343   \n",
       "20  ApeGang #4796      0.5900 2021-10-20 22:36:02.566433   \n",
       "\n",
       "                   Clothes                Ears                  Hat  \\\n",
       "0   Orange Striped T-Shirt                 NaN         Green Beanie   \n",
       "2                      NaN                 NaN  Yellow NBA Headband   \n",
       "3             Hotel Porter                 NaN         Brown Beanie   \n",
       "4                 Military                 NaN                  NaN   \n",
       "5              Blue Hoodie                 NaN                  NaN   \n",
       "6                      NaN             Airpods         Green Beanie   \n",
       "7                      NaN                 NaN                  NaN   \n",
       "8              Blue Hoodie                 NaN                  NaN   \n",
       "9                 Lab Coat                 NaN  Yellow NBA Headband   \n",
       "10                     NaN        Diamond Stud                Nurse   \n",
       "11                 Mexican  Bluetooth Earpiece            Fisherman   \n",
       "12              Black Suit                 NaN         Brown Beanie   \n",
       "13          Red NBA Jersey                 NaN               Cowboy   \n",
       "14                 Mexican                 NaN            Propeller   \n",
       "15                     Cop                 NaN                Brain   \n",
       "16                     NaN                 NaN         Flower Crown   \n",
       "17      Red Hawaiian Shirt                 NaN                  NaN   \n",
       "18      Red Hawaiian Shirt                 NaN          Rabbit Ears   \n",
       "19                     Cop                 NaN                Nurse   \n",
       "20                 Mexican           Gold Hoop  Yellow NBA Headband   \n",
       "\n",
       "                  Fur          Mouth             Eyes  trait_n         day  \\\n",
       "0               Brown      Grin Gold      Diving Mask        5  2021-10-21   \n",
       "2               Brown         Grillz   Hippie Glasses        4  2021-10-21   \n",
       "3               Brown           Yawn              NaN        4  2021-10-21   \n",
       "4               Brown      Cigarette            Crazy        4  2021-10-21   \n",
       "5               Zebra       Mustache          Monocle        4  2021-10-21   \n",
       "6               Brown     Tongue Out   Hippie Glasses        5  2021-10-21   \n",
       "7   Strong Dark Brown      Grin Gold        Eye Patch        3  2021-10-21   \n",
       "8               Zebra       Mustache          Monocle        4  2021-10-21   \n",
       "9               Brown      Cigarette          Bruised        5  2021-10-21   \n",
       "10  Strong Dark Brown         Flames  Gold Sunglasses        5  2021-10-21   \n",
       "11               Grey     Bubble Gum           Albino        6  2021-10-21   \n",
       "12              Brown            NaN              NaN        3  2021-10-21   \n",
       "13          Red Devil   Grin Rainbow              NaN        4  2021-10-21   \n",
       "14               Grey            NaN              NaN        3  2021-10-21   \n",
       "15              Brown         Grillz              NaN        4  2021-10-21   \n",
       "16  Strong Dark Brown     Covid Mask            Robot        4  2021-10-21   \n",
       "17              Brown  Drool Rainbow       Strabismus        4  2021-10-20   \n",
       "18              Brown       Mustache              NaN        4  2021-10-20   \n",
       "19              Black     Smoke Pipe            Crazy        5  2021-10-20   \n",
       "20              Cream            NaN            Robot        5  2021-10-20   \n",
       "\n",
       "    sale_price_daily_avg  price_diff  \n",
       "0                 0.4825      0.0075  \n",
       "2                 0.4825      0.0175  \n",
       "3                 0.4825      0.0075  \n",
       "4                 0.4825      0.0175  \n",
       "5                 0.4825     -0.0025  \n",
       "6                 0.4825      0.0055  \n",
       "7                 0.4825      0.0065  \n",
       "8                 0.4825     -0.1325  \n",
       "9                 0.4825      0.0075  \n",
       "10                0.4825      0.3175  \n",
       "11                0.4825      0.4175  \n",
       "12                0.4825     -0.0075  \n",
       "13                0.4825      1.5175  \n",
       "14                0.4825     -0.0974  \n",
       "15                0.4825     -0.0825  \n",
       "16                0.4825      0.1165  \n",
       "17                0.7000     -0.1300  \n",
       "18                0.7000     -0.1500  \n",
       "19                0.7000     -0.1100  \n",
       "20                0.7000     -0.1100  "
      ]
     },
     "execution_count": 41,
     "metadata": {},
     "output_type": "execute_result"
    }
   ],
   "source": [
    "ape_sales['price_diff'] = ape_sales.sale_price - ape_sales.sale_price_daily_avg\n",
    "ape_sales.head(20)"
   ]
  },
  {
   "cell_type": "code",
   "execution_count": 42,
   "metadata": {},
   "outputs": [
    {
     "data": {
      "text/plain": [
       "['price_diff',\n",
       " 'trait_n',\n",
       " 'ape_id',\n",
       " 'Clothes_Angel Wings',\n",
       " 'Clothes_Banana Shirt',\n",
       " 'Clothes_Batman',\n",
       " 'Clothes_Black Suit',\n",
       " 'Clothes_Black Tank Top',\n",
       " 'Clothes_Blue Hoodie',\n",
       " 'Clothes_Cop',\n",
       " 'Clothes_Devil Wings',\n",
       " 'Clothes_Fireman',\n",
       " 'Clothes_Grey Striped T-Shirt',\n",
       " 'Clothes_Groom',\n",
       " 'Clothes_Hippie',\n",
       " 'Clothes_Hotel Porter',\n",
       " 'Clothes_Indian',\n",
       " 'Clothes_Iron Man',\n",
       " 'Clothes_Joker',\n",
       " 'Clothes_Lab Coat',\n",
       " 'Clothes_Lumberjack',\n",
       " 'Clothes_Magician',\n",
       " 'Clothes_Mexican',\n",
       " 'Clothes_Military',\n",
       " 'Clothes_Nurse',\n",
       " 'Clothes_Orange Hawaiian Shirt ',\n",
       " 'Clothes_Orange Striped T-Shirt',\n",
       " 'Clothes_Pimp Coat',\n",
       " 'Clothes_Pirate',\n",
       " 'Clothes_Prison Jumpsuit',\n",
       " 'Clothes_Purple Hoodie',\n",
       " 'Clothes_Red Hawaiian Shirt',\n",
       " 'Clothes_Red NBA Jersey',\n",
       " 'Clothes_Sheriff',\n",
       " 'Clothes_Space Suit',\n",
       " 'Clothes_Toga',\n",
       " 'Clothes_Vader',\n",
       " 'Clothes_White Tank Top',\n",
       " 'Clothes_Winter Coat',\n",
       " 'Clothes_Yellow NBA Jersey',\n",
       " 'Ears_Airpods',\n",
       " 'Ears_Bluetooth Earpiece',\n",
       " 'Ears_Diamond Stud',\n",
       " 'Ears_Gold Hoop',\n",
       " 'Ears_Silver Hoop',\n",
       " 'Hat_Banana',\n",
       " 'Hat_Bandana',\n",
       " 'Hat_Batman',\n",
       " 'Hat_Borsalino',\n",
       " 'Hat_Brain',\n",
       " 'Hat_Brown Beanie',\n",
       " 'Hat_Cap',\n",
       " \"Hat_Chef's\",\n",
       " 'Hat_Cop',\n",
       " 'Hat_Cowboy',\n",
       " 'Hat_Crown',\n",
       " 'Hat_Fireman',\n",
       " 'Hat_Fisherman',\n",
       " 'Hat_Flower Crown',\n",
       " 'Hat_Green Beanie',\n",
       " 'Hat_Groom',\n",
       " 'Hat_Halo',\n",
       " 'Hat_Headphone',\n",
       " 'Hat_Hippie Bandana',\n",
       " 'Hat_Horn',\n",
       " 'Hat_Hotel Porter',\n",
       " 'Hat_Iron Man',\n",
       " 'Hat_Joker Hair',\n",
       " 'Hat_Laurel',\n",
       " 'Hat_Magician',\n",
       " 'Hat_Military Helmet',\n",
       " 'Hat_Nurse',\n",
       " 'Hat_Party',\n",
       " 'Hat_Pirate',\n",
       " 'Hat_Propeller',\n",
       " 'Hat_Purple Beanie',\n",
       " 'Hat_Rabbit Ears',\n",
       " 'Hat_Red NBA Headband',\n",
       " 'Hat_Sombrero',\n",
       " 'Hat_Stuntman Helmet',\n",
       " 'Hat_Sushi Chef',\n",
       " 'Hat_Top Hat',\n",
       " 'Hat_Vader',\n",
       " 'Hat_Viking Helmet',\n",
       " 'Hat_War Bonnet',\n",
       " 'Hat_Yellow NBA Headband',\n",
       " 'Fur_Alien',\n",
       " 'Fur_Black',\n",
       " 'Fur_Brown',\n",
       " 'Fur_Cheetah',\n",
       " 'Fur_Cream',\n",
       " 'Fur_Grey',\n",
       " 'Fur_Rainbow',\n",
       " 'Fur_Red Devil',\n",
       " 'Fur_Robot',\n",
       " 'Fur_Strong Dark Brown',\n",
       " 'Fur_Tiger',\n",
       " 'Fur_White',\n",
       " 'Fur_Zebra',\n",
       " 'Fur_Zombie',\n",
       " 'Mouth_Angry',\n",
       " 'Mouth_Baby Pacifier',\n",
       " 'Mouth_Beard',\n",
       " 'Mouth_Bubble Gum',\n",
       " 'Mouth_Cigarette',\n",
       " 'Mouth_Corn',\n",
       " 'Mouth_Covid Mask',\n",
       " 'Mouth_Drool Rainbow',\n",
       " 'Mouth_Flames',\n",
       " 'Mouth_Grillz',\n",
       " 'Mouth_Grin Gold',\n",
       " 'Mouth_Grin Rainbow',\n",
       " 'Mouth_Joint',\n",
       " 'Mouth_Joker',\n",
       " 'Mouth_Mustache',\n",
       " 'Mouth_Nose Ring',\n",
       " 'Mouth_Oh',\n",
       " 'Mouth_Shocked',\n",
       " 'Mouth_Smoke Pipe',\n",
       " 'Mouth_Snake',\n",
       " 'Mouth_Tongue Out',\n",
       " 'Mouth_Yawn',\n",
       " 'Eyes_3D Glasses',\n",
       " 'Eyes_Albino',\n",
       " 'Eyes_Alien',\n",
       " 'Eyes_Black Sunglasses',\n",
       " 'Eyes_Blind',\n",
       " 'Eyes_Bruised',\n",
       " 'Eyes_Closed',\n",
       " 'Eyes_Crazy',\n",
       " 'Eyes_Cyclops',\n",
       " 'Eyes_Devil',\n",
       " 'Eyes_Diving Mask',\n",
       " 'Eyes_Eye Patch',\n",
       " 'Eyes_Gold Sunglasses',\n",
       " 'Eyes_Heart',\n",
       " 'Eyes_High',\n",
       " 'Eyes_Hippie Glasses',\n",
       " 'Eyes_Laser',\n",
       " 'Eyes_Monocle',\n",
       " 'Eyes_Rainbow Sunglasses',\n",
       " 'Eyes_Robot',\n",
       " 'Eyes_Robot Glasses',\n",
       " 'Eyes_Round Glasses',\n",
       " 'Eyes_Sad',\n",
       " 'Eyes_Scar',\n",
       " 'Eyes_Squinting',\n",
       " 'Eyes_Strabismus']"
      ]
     },
     "execution_count": 42,
     "metadata": {},
     "output_type": "execute_result"
    }
   ],
   "source": [
    "df = pd.get_dummies(ape_sales[['Clothes','Ears','Hat','Fur','Mouth','Eyes','price_diff','trait_n','ape_id']],\n",
    "                    columns = ['Clothes','Ears','Hat','Fur','Mouth','Eyes'])\n",
    "list(df.columns)"
   ]
  },
  {
   "cell_type": "code",
   "execution_count": 43,
   "metadata": {},
   "outputs": [],
   "source": [
    "pd.set_option('display.max_columns', None)\n",
    "df[df.ape_id =='ApeGang #2196']\n",
    "df = df.drop(columns='ape_id')"
   ]
  },
  {
   "cell_type": "code",
   "execution_count": 44,
   "metadata": {},
   "outputs": [
    {
     "data": {
      "text/plain": [
       "price_diff    0\n",
       "trait_n       0\n",
       "dtype: int64"
      ]
     },
     "execution_count": 44,
     "metadata": {},
     "output_type": "execute_result"
    }
   ],
   "source": [
    "num_cols = ['price_diff','trait_n']\n",
    "df[num_cols].isnull().sum() # no missing values\n"
   ]
  },
  {
   "cell_type": "code",
   "execution_count": 45,
   "metadata": {},
   "outputs": [],
   "source": [
    "scaler = StandardScaler()\n",
    "df[num_cols] = scaler.fit_transform(df[num_cols])\n"
   ]
  },
  {
   "cell_type": "code",
   "execution_count": 46,
   "metadata": {},
   "outputs": [],
   "source": [
    "df.head()\n",
    "x= df.drop(columns='price_diff')\n",
    "y= df['price_diff']\n",
    "X_train, X_test, y_train, y_test = train_test_split(x, y, test_size=0.2, random_state=42)\n"
   ]
  },
  {
   "cell_type": "code",
   "execution_count": 47,
   "metadata": {},
   "outputs": [],
   "source": [
    "from sklearn.ensemble import RandomForestRegressor"
   ]
  },
  {
   "cell_type": "code",
   "execution_count": 48,
   "metadata": {},
   "outputs": [
    {
     "data": {
      "text/plain": [
       "RandomForestRegressor()"
      ]
     },
     "execution_count": 48,
     "metadata": {},
     "output_type": "execute_result"
    }
   ],
   "source": [
    "rf = RandomForestRegressor()\n",
    "rf.fit(x,y)"
   ]
  },
  {
   "cell_type": "code",
   "execution_count": 49,
   "metadata": {},
   "outputs": [],
   "source": [
    "y_pred = rf.predict(X_test)\n"
   ]
  },
  {
   "cell_type": "code",
   "execution_count": 50,
   "metadata": {},
   "outputs": [
    {
     "data": {
      "text/plain": [
       "0.6119611695800983"
      ]
     },
     "execution_count": 50,
     "metadata": {},
     "output_type": "execute_result"
    }
   ],
   "source": [
    "from sklearn.metrics import r2_score\n",
    "r2_score(y_test,y_pred)"
   ]
  },
  {
   "cell_type": "code",
   "execution_count": 51,
   "metadata": {},
   "outputs": [
    {
     "data": {
      "text/plain": [
       "[<matplotlib.lines.Line2D at 0x2bbd3b7e310>]"
      ]
     },
     "execution_count": 51,
     "metadata": {},
     "output_type": "execute_result"
    },
    {
     "data": {
      "image/png": "[encoded data removed]",
      "text/plain": [
       "<Figure size 432x288 with 1 Axes>"
      ]
     },
     "metadata": {
      "needs_background": "light"
     },
     "output_type": "display_data"
    }
   ],
   "source": [
    "import numpy as np\n",
    "import matplotlib.pyplot as plt\n",
    "plt.plot(y_test, y_pred, 'o')\n"
   ]
  },
  {
   "cell_type": "code",
   "execution_count": 55,
   "metadata": {},
   "outputs": [
    {
     "data": {
      "text/plain": [
       "Text(0.5, 0, 'Random Forest Feature Importance')"
      ]
     },
     "execution_count": 55,
     "metadata": {},
     "output_type": "execute_result"
    },
    {
     "data": {
      "image/png": "[encoded data removed]",
      "text/plain": [
       "<Figure size 720x720 with 1 Axes>"
      ]
     },
     "metadata": {
      "needs_background": "light"
     },
     "output_type": "display_data"
    }
   ],
   "source": [
    "#look at feature importances\n",
    "sorted_idx = rf.feature_importances_.argsort()[::-1]\n",
    "#x.columns[sorted_idx]\n",
    "plt.figure(figsize=(10,10))\n",
    "plt.barh(x.columns[sorted_idx[0:22]], rf.feature_importances_[sorted_idx[0:22]])\n",
    "plt.xlabel(\"Random Forest Feature Importance\")"
   ]
  },
  {
   "cell_type": "code",
   "execution_count": 61,
   "metadata": {},
   "outputs": [
    {
     "data": {
      "text/plain": [
       "['../models/randomforest.joblib']"
      ]
     },
     "execution_count": 61,
     "metadata": {},
     "output_type": "execute_result"
    }
   ],
   "source": [
    "#persist model in memory\n",
    "from joblib import dump, load\n",
    "dump(rf, '../models/randomforest.joblib') "
   ]
  },
  {
   "cell_type": "code",
   "execution_count": 58,
   "metadata": {},
   "outputs": [
    {
     "name": "stdout",
     "output_type": "stream",
     "text": [
      "Requirement already satisfied: joblib in c:\\users\\samue\\anaconda3\\lib\\site-packages (1.0.1)\n"
     ]
    }
   ],
   "source": [
    "#load model back into memory\n",
    "clf = load('filename.joblib') "
   ]
  },
  {
   "cell_type": "code",
   "execution_count": null,
   "metadata": {},
   "outputs": [],
   "source": []
  }
 ],
 "metadata": {
  "interpreter": {
   "hash": "d350f589df2bc36d70cf342ebcc55eca487ae98f642e153f0522f552a885c569"
  },
  "kernelspec": {
   "display_name": "Python 3.8.8 64-bit ('base': conda)",
   "name": "python3"
  },
  "language_info": {
   "codemirror_mode": {
    "name": "ipython",
    "version": 3
   },
   "file_extension": ".py",
   "mimetype": "text/x-python",
   "name": "python",
   "nbconvert_exporter": "python",
   "pygments_lexer": "ipython3",
   "version": "3.8.8"
  }
 },
 "nbformat": 4,
 "nbformat_minor": 4
}
