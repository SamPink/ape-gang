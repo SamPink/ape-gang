{
 "cells": [
  {
   "cell_type": "code",
   "execution_count": 1,
   "metadata": {},
   "outputs": [],
   "source": [
    "import pandas as pd"
   ]
  },
  {
   "cell_type": "code",
   "execution_count": 3,
   "metadata": {},
   "outputs": [],
   "source": [
    "df = pd.read_csv('../all_sales.csv')"
   ]
  },
  {
   "cell_type": "code",
   "execution_count": 10,
   "metadata": {},
   "outputs": [],
   "source": [
    "all_apes = pd.read_csv('../csvs/all_the_apes.csv')"
   ]
  },
  {
   "cell_type": "code",
   "execution_count": 21,
   "metadata": {},
   "outputs": [
    {
     "data": {
      "text/html": [
       "<div>\n",
       "<style scoped>\n",
       "    .dataframe tbody tr th:only-of-type {\n",
       "        vertical-align: middle;\n",
       "    }\n",
       "\n",
       "    .dataframe tbody tr th {\n",
       "        vertical-align: top;\n",
       "    }\n",
       "\n",
       "    .dataframe thead th {\n",
       "        text-align: right;\n",
       "    }\n",
       "</style>\n",
       "<table border=\"1\" class=\"dataframe\">\n",
       "  <thead>\n",
       "    <tr style=\"text-align: right;\">\n",
       "      <th></th>\n",
       "      <th>Unnamed: 0</th>\n",
       "      <th>ape_id</th>\n",
       "      <th>sale_price</th>\n",
       "      <th>sale_time</th>\n",
       "    </tr>\n",
       "  </thead>\n",
       "  <tbody>\n",
       "    <tr>\n",
       "      <th>0</th>\n",
       "      <td>0</td>\n",
       "      <td>ApeGang #6699</td>\n",
       "      <td>0.750</td>\n",
       "      <td>2021-10-20T09:03:48.617539</td>\n",
       "    </tr>\n",
       "    <tr>\n",
       "      <th>1</th>\n",
       "      <td>0</td>\n",
       "      <td>ApeGang #4861</td>\n",
       "      <td>0.590</td>\n",
       "      <td>2021-10-20T09:00:06.790205</td>\n",
       "    </tr>\n",
       "    <tr>\n",
       "      <th>2</th>\n",
       "      <td>0</td>\n",
       "      <td>ApeGang #5655</td>\n",
       "      <td>0.600</td>\n",
       "      <td>2021-10-20T07:27:20.256434</td>\n",
       "    </tr>\n",
       "    <tr>\n",
       "      <th>3</th>\n",
       "      <td>0</td>\n",
       "      <td>ApeGang #1829</td>\n",
       "      <td>0.690</td>\n",
       "      <td>2021-10-20T07:16:58.378685</td>\n",
       "    </tr>\n",
       "    <tr>\n",
       "      <th>4</th>\n",
       "      <td>0</td>\n",
       "      <td>ApeGang #8196</td>\n",
       "      <td>0.619</td>\n",
       "      <td>2021-10-20T05:04:18.681137</td>\n",
       "    </tr>\n",
       "    <tr>\n",
       "      <th>...</th>\n",
       "      <td>...</td>\n",
       "      <td>...</td>\n",
       "      <td>...</td>\n",
       "      <td>...</td>\n",
       "    </tr>\n",
       "    <tr>\n",
       "      <th>10026</th>\n",
       "      <td>0</td>\n",
       "      <td>ApeGang #2846</td>\n",
       "      <td>0.100</td>\n",
       "      <td>2021-08-16T23:34:36.092519</td>\n",
       "    </tr>\n",
       "    <tr>\n",
       "      <th>10027</th>\n",
       "      <td>0</td>\n",
       "      <td>ApeGang #1304</td>\n",
       "      <td>0.065</td>\n",
       "      <td>2021-08-16T23:02:36.073122</td>\n",
       "    </tr>\n",
       "    <tr>\n",
       "      <th>10028</th>\n",
       "      <td>0</td>\n",
       "      <td>ApeGang #8974</td>\n",
       "      <td>0.060</td>\n",
       "      <td>2021-08-16T22:59:47.947016</td>\n",
       "    </tr>\n",
       "    <tr>\n",
       "      <th>10029</th>\n",
       "      <td>0</td>\n",
       "      <td>ApeGang #8324</td>\n",
       "      <td>0.070</td>\n",
       "      <td>2021-08-16T22:40:49.062729</td>\n",
       "    </tr>\n",
       "    <tr>\n",
       "      <th>10030</th>\n",
       "      <td>0</td>\n",
       "      <td>ApeGang #3297</td>\n",
       "      <td>0.060</td>\n",
       "      <td>2021-08-16T22:29:49.767387</td>\n",
       "    </tr>\n",
       "  </tbody>\n",
       "</table>\n",
       "<p>10031 rows × 4 columns</p>\n",
       "</div>"
      ],
      "text/plain": [
       "       Unnamed: 0         ape_id  sale_price                   sale_time\n",
       "0               0  ApeGang #6699       0.750  2021-10-20T09:03:48.617539\n",
       "1               0  ApeGang #4861       0.590  2021-10-20T09:00:06.790205\n",
       "2               0  ApeGang #5655       0.600  2021-10-20T07:27:20.256434\n",
       "3               0  ApeGang #1829       0.690  2021-10-20T07:16:58.378685\n",
       "4               0  ApeGang #8196       0.619  2021-10-20T05:04:18.681137\n",
       "...           ...            ...         ...                         ...\n",
       "10026           0  ApeGang #2846       0.100  2021-08-16T23:34:36.092519\n",
       "10027           0  ApeGang #1304       0.065  2021-08-16T23:02:36.073122\n",
       "10028           0  ApeGang #8974       0.060  2021-08-16T22:59:47.947016\n",
       "10029           0  ApeGang #8324       0.070  2021-08-16T22:40:49.062729\n",
       "10030           0  ApeGang #3297       0.060  2021-08-16T22:29:49.767387\n",
       "\n",
       "[10031 rows x 4 columns]"
      ]
     },
     "execution_count": 21,
     "metadata": {},
     "output_type": "execute_result"
    }
   ],
   "source": [
    "df"
   ]
  },
  {
   "cell_type": "code",
   "execution_count": 6,
   "metadata": {},
   "outputs": [
    {
     "data": {
      "text/plain": [
       "ApeGang #4675    7\n",
       "ApeGang #2465    7\n",
       "ApeGang #3388    7\n",
       "ApeGang #1320    6\n",
       "ApeGang #9802    6\n",
       "                ..\n",
       "ApeGang #3815    1\n",
       "ApeGang #5549    1\n",
       "ApeGang #4422    1\n",
       "ApeGang #2513    1\n",
       "ApeGang #8636    1\n",
       "Name: ape_id, Length: 5856, dtype: int64"
      ]
     },
     "execution_count": 6,
     "metadata": {},
     "output_type": "execute_result"
    }
   ],
   "source": [
    "#most sales per ape\n",
    "df.ape_id.value_counts()"
   ]
  },
  {
   "cell_type": "code",
   "execution_count": 7,
   "metadata": {},
   "outputs": [
    {
     "data": {
      "text/plain": [
       "count    10031.000000\n",
       "mean         0.483542\n",
       "std          0.595238\n",
       "min          0.000000\n",
       "25%          0.229650\n",
       "50%          0.379000\n",
       "75%          0.600000\n",
       "max         33.690000\n",
       "Name: sale_price, dtype: float64"
      ]
     },
     "execution_count": 7,
     "metadata": {},
     "output_type": "execute_result"
    }
   ],
   "source": [
    "#sales stats\n",
    "df.sale_price.describe()"
   ]
  },
  {
   "cell_type": "code",
   "execution_count": 11,
   "metadata": {},
   "outputs": [
    {
     "data": {
      "text/plain": [
       "<AxesSubplot:>"
      ]
     },
     "execution_count": 11,
     "metadata": {},
     "output_type": "execute_result"
    },
    {
     "data": {
      "image/png": "[encoded data removed]",
      "text/plain": [
       "<Figure size 432x288 with 1 Axes>"
      ]
     },
     "metadata": {
      "needs_background": "light"
     },
     "output_type": "display_data"
    }
   ],
   "source": [
    "#sales over time\n",
    "df.sale_price.plot()"
   ]
  },
  {
   "cell_type": "code",
   "execution_count": 14,
   "metadata": {},
   "outputs": [],
   "source": [
    "hoop_bois = all_apes[all_apes['Ears'] == 'Gold Hoop']"
   ]
  },
  {
   "cell_type": "code",
   "execution_count": 17,
   "metadata": {},
   "outputs": [],
   "source": [
    "hoop_bois_sales = df.loc[df[\"ape_id\"].isin(hoop_bois.ape_id)]"
   ]
  },
  {
   "cell_type": "code",
   "execution_count": 25,
   "metadata": {},
   "outputs": [
    {
     "data": {
      "text/plain": [
       "0.5490810147480392"
      ]
     },
     "execution_count": 25,
     "metadata": {},
     "output_type": "execute_result"
    }
   ],
   "source": [
    "#mean sale for hoop bois\n",
    "hoop_bois_sales.sale_price.mean()"
   ]
  },
  {
   "cell_type": "code",
   "execution_count": 27,
   "metadata": {},
   "outputs": [
    {
     "data": {
      "text/plain": [
       "0.48354232060879604"
      ]
     },
     "execution_count": 27,
     "metadata": {},
     "output_type": "execute_result"
    }
   ],
   "source": [
    "#mean sale for all apes\n",
    "df.sale_price.mean()"
   ]
  },
  {
   "cell_type": "code",
   "execution_count": null,
   "metadata": {},
   "outputs": [],
   "source": []
  }
 ],
 "metadata": {
  "interpreter": {
   "hash": "d350f589df2bc36d70cf342ebcc55eca487ae98f642e153f0522f552a885c569"
  },
  "kernelspec": {
   "display_name": "Python 3",
   "language": "python",
   "name": "python3"
  },
  "language_info": {
   "codemirror_mode": {
    "name": "ipython",
    "version": 3
   },
   "file_extension": ".py",
   "mimetype": "text/x-python",
   "name": "python",
   "nbconvert_exporter": "python",
   "pygments_lexer": "ipython3",
   "version": "3.8.8"
  }
 },
 "nbformat": 4,
 "nbformat_minor": 2
}
