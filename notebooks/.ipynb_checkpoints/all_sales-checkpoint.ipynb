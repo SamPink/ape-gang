{
 "cells": [
  {
   "cell_type": "code",
   "execution_count": 190,
   "metadata": {},
   "outputs": [],
   "source": [
    "import pandas as pd\n",
    "from datetime import datetime, timedelta"
   ]
  },
  {
   "cell_type": "code",
   "execution_count": 2,
   "metadata": {},
   "outputs": [],
   "source": [
    "df = pd.read_csv('../all_sales.csv')"
   ]
  },
  {
   "cell_type": "code",
   "execution_count": 185,
   "metadata": {},
   "outputs": [],
   "source": [
    "df.sale_time = df.sale_time.astype(\"datetime64[ns]\")"
   ]
  },
  {
   "cell_type": "code",
   "execution_count": 197,
   "metadata": {},
   "outputs": [],
   "source": [
    "df = df[df.sale_time > datetime(2021, 10, 1)]"
   ]
  },
  {
   "cell_type": "code",
   "execution_count": 3,
   "metadata": {},
   "outputs": [],
   "source": [
    "all_apes = pd.read_csv('../csvs/all_the_apes.csv')"
   ]
  },
  {
   "cell_type": "code",
   "execution_count": 4,
   "metadata": {},
   "outputs": [
    {
     "data": {
      "text/html": [
       "<div>\n",
       "<style scoped>\n",
       "    .dataframe tbody tr th:only-of-type {\n",
       "        vertical-align: middle;\n",
       "    }\n",
       "\n",
       "    .dataframe tbody tr th {\n",
       "        vertical-align: top;\n",
       "    }\n",
       "\n",
       "    .dataframe thead th {\n",
       "        text-align: right;\n",
       "    }\n",
       "</style>\n",
       "<table border=\"1\" class=\"dataframe\">\n",
       "  <thead>\n",
       "    <tr style=\"text-align: right;\">\n",
       "      <th></th>\n",
       "      <th>Unnamed: 0</th>\n",
       "      <th>sale_id</th>\n",
       "      <th>ape_id</th>\n",
       "      <th>sale_price</th>\n",
       "      <th>sale_time</th>\n",
       "      <th>seller_name</th>\n",
       "      <th>seller_wallet</th>\n",
       "      <th>buyer_name</th>\n",
       "      <th>buyer_wallet</th>\n",
       "    </tr>\n",
       "  </thead>\n",
       "  <tbody>\n",
       "    <tr>\n",
       "      <th>0</th>\n",
       "      <td>0</td>\n",
       "      <td>1470246435</td>\n",
       "      <td>ApeGang #4226</td>\n",
       "      <td>0.490</td>\n",
       "      <td>2021-10-21T08:27:51.055386</td>\n",
       "      <td>NaN</td>\n",
       "      <td>0xf25018fbf9d07db0e02c36824da7b444bb3c2379</td>\n",
       "      <td>diogopunk3</td>\n",
       "      <td>0xf3ba73e6d3d19cf0405486db3d44404c35b78b80</td>\n",
       "    </tr>\n",
       "    <tr>\n",
       "      <th>1</th>\n",
       "      <td>0</td>\n",
       "      <td>1469983558</td>\n",
       "      <td>ApeGang #9793</td>\n",
       "      <td>0.002</td>\n",
       "      <td>2021-10-21T08:01:12.181661</td>\n",
       "      <td>NaN</td>\n",
       "      <td>0x02dd1c87ccd51bfd12c5e4c04eb3ed9224ea9400</td>\n",
       "      <td>NaN</td>\n",
       "      <td>0x1d516bdec43122415726b676796736caa3cd319d</td>\n",
       "    </tr>\n",
       "    <tr>\n",
       "      <th>2</th>\n",
       "      <td>0</td>\n",
       "      <td>1468894965</td>\n",
       "      <td>ApeGang #2196</td>\n",
       "      <td>0.500</td>\n",
       "      <td>2021-10-21T06:11:33.290535</td>\n",
       "      <td>NaN</td>\n",
       "      <td>0x9fe59ab5ac6c00a80f5c05acd3071a22b61f25bf</td>\n",
       "      <td>GeeMoney</td>\n",
       "      <td>0x0f9ac6fdbc287c7b8d29a139845963e4f513fe15</td>\n",
       "    </tr>\n",
       "    <tr>\n",
       "      <th>3</th>\n",
       "      <td>0</td>\n",
       "      <td>1468769122</td>\n",
       "      <td>ApeGang #2061</td>\n",
       "      <td>0.490</td>\n",
       "      <td>2021-10-21T05:59:06.139219</td>\n",
       "      <td>NaN</td>\n",
       "      <td>0x82b04eb793777a10de5e54b6235396e60d0e4b5f</td>\n",
       "      <td>NaN</td>\n",
       "      <td>0xcfb398f869dab6f1c70c5afb6728612fad06fa8c</td>\n",
       "    </tr>\n",
       "    <tr>\n",
       "      <th>4</th>\n",
       "      <td>0</td>\n",
       "      <td>1468061535</td>\n",
       "      <td>ApeGang #8081</td>\n",
       "      <td>0.500</td>\n",
       "      <td>2021-10-21T04:51:32.215490</td>\n",
       "      <td>NaN</td>\n",
       "      <td>0x4f3553aa0789cbfffa469758284190cd072163bc</td>\n",
       "      <td>NaN</td>\n",
       "      <td>0xaab5612de1413e7ceb0f5deaaf27d3f85852b3b9</td>\n",
       "    </tr>\n",
       "    <tr>\n",
       "      <th>...</th>\n",
       "      <td>...</td>\n",
       "      <td>...</td>\n",
       "      <td>...</td>\n",
       "      <td>...</td>\n",
       "      <td>...</td>\n",
       "      <td>...</td>\n",
       "      <td>...</td>\n",
       "      <td>...</td>\n",
       "      <td>...</td>\n",
       "    </tr>\n",
       "    <tr>\n",
       "      <th>10026</th>\n",
       "      <td>0</td>\n",
       "      <td>562627821</td>\n",
       "      <td>ApeGang #822</td>\n",
       "      <td>0.050</td>\n",
       "      <td>2021-08-18T05:27:22.262430</td>\n",
       "      <td>NaN</td>\n",
       "      <td>0x5993e90c0b7fa6e3c098afd01cb3e50bc58c2261</td>\n",
       "      <td>Jinzo</td>\n",
       "      <td>0x6beef2b2fe00fddca12a8cda2d4b00435b0ba3b6</td>\n",
       "    </tr>\n",
       "    <tr>\n",
       "      <th>10027</th>\n",
       "      <td>0</td>\n",
       "      <td>562589059</td>\n",
       "      <td>ApeGang #3996</td>\n",
       "      <td>0.060</td>\n",
       "      <td>2021-08-18T04:59:51.182080</td>\n",
       "      <td>NaN</td>\n",
       "      <td>0x1eb7b04236b95943dcddfd2e96dbb1ba3b37f44c</td>\n",
       "      <td>GeeMoney</td>\n",
       "      <td>0x0f9ac6fdbc287c7b8d29a139845963e4f513fe15</td>\n",
       "    </tr>\n",
       "    <tr>\n",
       "      <th>10028</th>\n",
       "      <td>0</td>\n",
       "      <td>562556618</td>\n",
       "      <td>ApeGang #2786</td>\n",
       "      <td>0.060</td>\n",
       "      <td>2021-08-18T04:56:15.197868</td>\n",
       "      <td>NaN</td>\n",
       "      <td>0x2baf25bfbb188c22fccefa4fe5a5837e9c822334</td>\n",
       "      <td>GeeMoney</td>\n",
       "      <td>0x0f9ac6fdbc287c7b8d29a139845963e4f513fe15</td>\n",
       "    </tr>\n",
       "    <tr>\n",
       "      <th>10029</th>\n",
       "      <td>0</td>\n",
       "      <td>562552716</td>\n",
       "      <td>ApeGang #6482</td>\n",
       "      <td>0.060</td>\n",
       "      <td>2021-08-18T04:47:27.073073</td>\n",
       "      <td>NaN</td>\n",
       "      <td>0xaebcdb853716d643f2c3715e7803b02109209d3b</td>\n",
       "      <td>GeeMoney</td>\n",
       "      <td>0x0f9ac6fdbc287c7b8d29a139845963e4f513fe15</td>\n",
       "    </tr>\n",
       "    <tr>\n",
       "      <th>10030</th>\n",
       "      <td>0</td>\n",
       "      <td>562457675</td>\n",
       "      <td>ApeGang #5258</td>\n",
       "      <td>0.100</td>\n",
       "      <td>2021-08-18T03:08:58.976231</td>\n",
       "      <td>NaN</td>\n",
       "      <td>0x315bd7ca72934502b4a4683d7f6ba9fad1362473</td>\n",
       "      <td>BrickRick</td>\n",
       "      <td>0x0c0089d42a1b14bea38055d6d110a3503eaecf56</td>\n",
       "    </tr>\n",
       "  </tbody>\n",
       "</table>\n",
       "<p>10031 rows × 9 columns</p>\n",
       "</div>"
      ],
      "text/plain": [
       "       Unnamed: 0     sale_id         ape_id  sale_price  \\\n",
       "0               0  1470246435  ApeGang #4226       0.490   \n",
       "1               0  1469983558  ApeGang #9793       0.002   \n",
       "2               0  1468894965  ApeGang #2196       0.500   \n",
       "3               0  1468769122  ApeGang #2061       0.490   \n",
       "4               0  1468061535  ApeGang #8081       0.500   \n",
       "...           ...         ...            ...         ...   \n",
       "10026           0   562627821   ApeGang #822       0.050   \n",
       "10027           0   562589059  ApeGang #3996       0.060   \n",
       "10028           0   562556618  ApeGang #2786       0.060   \n",
       "10029           0   562552716  ApeGang #6482       0.060   \n",
       "10030           0   562457675  ApeGang #5258       0.100   \n",
       "\n",
       "                        sale_time  seller_name  \\\n",
       "0      2021-10-21T08:27:51.055386          NaN   \n",
       "1      2021-10-21T08:01:12.181661          NaN   \n",
       "2      2021-10-21T06:11:33.290535          NaN   \n",
       "3      2021-10-21T05:59:06.139219          NaN   \n",
       "4      2021-10-21T04:51:32.215490          NaN   \n",
       "...                           ...          ...   \n",
       "10026  2021-08-18T05:27:22.262430          NaN   \n",
       "10027  2021-08-18T04:59:51.182080          NaN   \n",
       "10028  2021-08-18T04:56:15.197868          NaN   \n",
       "10029  2021-08-18T04:47:27.073073          NaN   \n",
       "10030  2021-08-18T03:08:58.976231          NaN   \n",
       "\n",
       "                                    seller_wallet  buyer_name  \\\n",
       "0      0xf25018fbf9d07db0e02c36824da7b444bb3c2379  diogopunk3   \n",
       "1      0x02dd1c87ccd51bfd12c5e4c04eb3ed9224ea9400         NaN   \n",
       "2      0x9fe59ab5ac6c00a80f5c05acd3071a22b61f25bf    GeeMoney   \n",
       "3      0x82b04eb793777a10de5e54b6235396e60d0e4b5f         NaN   \n",
       "4      0x4f3553aa0789cbfffa469758284190cd072163bc         NaN   \n",
       "...                                           ...         ...   \n",
       "10026  0x5993e90c0b7fa6e3c098afd01cb3e50bc58c2261       Jinzo   \n",
       "10027  0x1eb7b04236b95943dcddfd2e96dbb1ba3b37f44c    GeeMoney   \n",
       "10028  0x2baf25bfbb188c22fccefa4fe5a5837e9c822334    GeeMoney   \n",
       "10029  0xaebcdb853716d643f2c3715e7803b02109209d3b    GeeMoney   \n",
       "10030  0x315bd7ca72934502b4a4683d7f6ba9fad1362473   BrickRick   \n",
       "\n",
       "                                     buyer_wallet  \n",
       "0      0xf3ba73e6d3d19cf0405486db3d44404c35b78b80  \n",
       "1      0x1d516bdec43122415726b676796736caa3cd319d  \n",
       "2      0x0f9ac6fdbc287c7b8d29a139845963e4f513fe15  \n",
       "3      0xcfb398f869dab6f1c70c5afb6728612fad06fa8c  \n",
       "4      0xaab5612de1413e7ceb0f5deaaf27d3f85852b3b9  \n",
       "...                                           ...  \n",
       "10026  0x6beef2b2fe00fddca12a8cda2d4b00435b0ba3b6  \n",
       "10027  0x0f9ac6fdbc287c7b8d29a139845963e4f513fe15  \n",
       "10028  0x0f9ac6fdbc287c7b8d29a139845963e4f513fe15  \n",
       "10029  0x0f9ac6fdbc287c7b8d29a139845963e4f513fe15  \n",
       "10030  0x0c0089d42a1b14bea38055d6d110a3503eaecf56  \n",
       "\n",
       "[10031 rows x 9 columns]"
      ]
     },
     "execution_count": 4,
     "metadata": {},
     "output_type": "execute_result"
    }
   ],
   "source": [
    "df"
   ]
  },
  {
   "cell_type": "code",
   "execution_count": 198,
   "metadata": {},
   "outputs": [
    {
     "data": {
      "text/plain": [
       "ApeGang #6577    4\n",
       "ApeGang #6967    4\n",
       "ApeGang #2393    4\n",
       "ApeGang #5674    4\n",
       "ApeGang #692     4\n",
       "                ..\n",
       "ApeGang #9753    1\n",
       "ApeGang #5065    1\n",
       "ApeGang #5606    1\n",
       "ApeGang #3987    1\n",
       "ApeGang #9554    1\n",
       "Name: ape_id, Length: 2331, dtype: int64"
      ]
     },
     "execution_count": 198,
     "metadata": {},
     "output_type": "execute_result"
    }
   ],
   "source": [
    "#most sales per ape\n",
    "df.ape_id.value_counts()"
   ]
  },
  {
   "cell_type": "code",
   "execution_count": 199,
   "metadata": {},
   "outputs": [
    {
     "data": {
      "text/plain": [
       "0x0008d343091ef8bd3efa730f6aae5a26a285c7a2    46\n",
       "0x7485ac6d8534691993348d51ab0f131a19fff763    38\n",
       "0x98de2a07f09afb28f0b3af3e3dcede7cb97130f1    38\n",
       "0x7f873ec58d567e78a2c1dca322cbdb6d490ccb7d    32\n",
       "0x4a674137614be83bab59e1e307ba43307daab8be    28\n",
       "                                              ..\n",
       "0xde3760ac1c9b19bcf2aca0701f5f04e68804da0d     1\n",
       "0xb276eba4f7023fce5892f3eb46767e1c7e283684     1\n",
       "0x16b22f8b2245ae6fb23c9a7ba4406bf5ff63033c     1\n",
       "0xaae742cb201a69c455369d66aa42f1059ab74791     1\n",
       "0xe890189dba7d5052976f4fd61216426b1da7d5d0     1\n",
       "Name: seller_wallet, Length: 1700, dtype: int64"
      ]
     },
     "execution_count": 199,
     "metadata": {},
     "output_type": "execute_result"
    }
   ],
   "source": [
    "#most sales per wallet\n",
    "df.seller_wallet.value_counts()"
   ]
  },
  {
   "cell_type": "code",
   "execution_count": 201,
   "metadata": {},
   "outputs": [
    {
     "data": {
      "text/plain": [
       "39.818699999999986"
      ]
     },
     "execution_count": 201,
     "metadata": {},
     "output_type": "execute_result"
    }
   ],
   "source": [
    "#top wallet has sold 91 eth of apes\n",
    "df[df.seller_wallet == '0x0008d343091ef8bd3efa730f6aae5a26a285c7a2'].sale_price.sum()"
   ]
  },
  {
   "cell_type": "code",
   "execution_count": 202,
   "metadata": {},
   "outputs": [
    {
     "data": {
      "text/plain": [
       "0x0c4037b72a0c63340fb530690ea123c612665a34    832\n",
       "0xefdd9a85e4bb37e37bc834901bd3c631c9539d54     32\n",
       "0xc39056db924b7f82cb1637e1206beeb2b2968789     19\n",
       "0x98de2a07f09afb28f0b3af3e3dcede7cb97130f1     18\n",
       "0x4a674137614be83bab59e1e307ba43307daab8be     15\n",
       "                                             ... \n",
       "0x5b01943bc927c2796e0b47c0f5a1b2afbe3028f8      1\n",
       "0x26db273947f5ea651e8b98493ff7fd6505615935      1\n",
       "0x4e28fe4bcb769824809e5bdb0dfcfc8787bc698d      1\n",
       "0xfac6ef175082b4107a1c738f22db5ae2a91569ab      1\n",
       "0x80f461782331014609de0ab6221d9acabc8d9adb      1\n",
       "Name: buyer_wallet, Length: 1263, dtype: int64"
      ]
     },
     "execution_count": 202,
     "metadata": {},
     "output_type": "execute_result"
    }
   ],
   "source": [
    "#wallets with the most buys\n",
    "df.buyer_wallet.value_counts()"
   ]
  },
  {
   "cell_type": "code",
   "execution_count": 203,
   "metadata": {},
   "outputs": [
    {
     "data": {
      "text/plain": [
       "975.7528036855545"
      ]
     },
     "execution_count": 203,
     "metadata": {},
     "output_type": "execute_result"
    }
   ],
   "source": [
    "df[df.buyer_wallet == '0x0c4037b72a0c63340fb530690ea123c612665a34'].sale_price.sum()"
   ]
  },
  {
   "cell_type": "code",
   "execution_count": 204,
   "metadata": {},
   "outputs": [
    {
     "data": {
      "text/plain": [
       "count    2922.000000\n",
       "mean        0.860147\n",
       "std         0.889622\n",
       "min         0.000000\n",
       "25%         0.550000\n",
       "50%         0.740000\n",
       "75%         0.895720\n",
       "max        33.690000\n",
       "Name: sale_price, dtype: float64"
      ]
     },
     "execution_count": 204,
     "metadata": {},
     "output_type": "execute_result"
    }
   ],
   "source": [
    "#sales stats\n",
    "df.sale_price.describe()"
   ]
  },
  {
   "cell_type": "code",
   "execution_count": 205,
   "metadata": {},
   "outputs": [
    {
     "data": {
      "text/plain": [
       "<AxesSubplot:>"
      ]
     },
     "execution_count": 205,
     "metadata": {},
     "output_type": "execute_result"
    },
    {
     "data": {
      "image/png": "[encoded data removed]",
      "text/plain": [
       "<Figure size 2160x720 with 1 Axes>"
      ]
     },
     "metadata": {},
     "output_type": "display_data"
    }
   ],
   "source": [
    "#sales over time\n",
    "df.sale_price.plot()"
   ]
  },
  {
   "cell_type": "code",
   "execution_count": 206,
   "metadata": {},
   "outputs": [],
   "source": [
    "hoop_bois = all_apes[all_apes['Ears'] == 'Gold Hoop']"
   ]
  },
  {
   "cell_type": "code",
   "execution_count": 207,
   "metadata": {},
   "outputs": [],
   "source": [
    "hoop_bois_sales = df.loc[df[\"ape_id\"].isin(hoop_bois.ape_id)]"
   ]
  },
  {
   "cell_type": "code",
   "execution_count": 208,
   "metadata": {},
   "outputs": [
    {
     "data": {
      "text/plain": [
       "1.0232834999999998"
      ]
     },
     "execution_count": 208,
     "metadata": {},
     "output_type": "execute_result"
    }
   ],
   "source": [
    "#mean sale for hoop bois\n",
    "hoop_bois_sales.sale_price.mean()"
   ]
  },
  {
   "cell_type": "code",
   "execution_count": 209,
   "metadata": {},
   "outputs": [
    {
     "data": {
      "text/plain": [
       "0.8601471180425748"
      ]
     },
     "execution_count": 209,
     "metadata": {},
     "output_type": "execute_result"
    }
   ],
   "source": [
    "#mean sale for all apes\n",
    "df.sale_price.mean()"
   ]
  },
  {
   "cell_type": "code",
   "execution_count": 210,
   "metadata": {},
   "outputs": [],
   "source": [
    "df_1 = df.merge(all_apes, left_on='ape_id', right_on='ape_id', how='left')"
   ]
  },
  {
   "cell_type": "code",
   "execution_count": 211,
   "metadata": {},
   "outputs": [],
   "source": [
    "bgb = df_1[df_1.buyer_wallet == '0x0c4037b72a0c63340fb530690ea123c612665a34']"
   ]
  },
  {
   "cell_type": "code",
   "execution_count": 212,
   "metadata": {},
   "outputs": [
    {
     "data": {
      "text/plain": [
       "Yellow NBA Jersey     46\n",
       "Pimp Coat             36\n",
       "Red NBA Jersey        34\n",
       "Red Hawaiian Shirt    24\n",
       "Winter Coat           23\n",
       "Name: Clothes, dtype: int64"
      ]
     },
     "execution_count": 212,
     "metadata": {},
     "output_type": "execute_result"
    }
   ],
   "source": [
    "bgb.Clothes.value_counts().head()"
   ]
  },
  {
   "cell_type": "code",
   "execution_count": 213,
   "metadata": {},
   "outputs": [
    {
     "data": {
      "text/plain": [
       "Yellow NBA Headband    31\n",
       "Horn                   25\n",
       "Laurel                 23\n",
       "Crown                  21\n",
       "Cowboy                 21\n",
       "Name: Hat, dtype: int64"
      ]
     },
     "execution_count": 213,
     "metadata": {},
     "output_type": "execute_result"
    }
   ],
   "source": [
    "bgb.Hat.value_counts().head()"
   ]
  },
  {
   "cell_type": "code",
   "execution_count": 214,
   "metadata": {},
   "outputs": [
    {
     "data": {
      "text/plain": [
       "Bluetooth Earpiece    48\n",
       "Silver Hoop           46\n",
       "Airpods               44\n",
       "Diamond Stud          40\n",
       "Gold Hoop             39\n",
       "Name: Ears, dtype: int64"
      ]
     },
     "execution_count": 214,
     "metadata": {},
     "output_type": "execute_result"
    }
   ],
   "source": [
    "df_1[df_1.buyer_wallet == '0x0c4037b72a0c63340fb530690ea123c612665a34'].Ears.value_counts().head()"
   ]
  },
  {
   "cell_type": "code",
   "execution_count": 215,
   "metadata": {},
   "outputs": [
    {
     "data": {
      "text/plain": [
       "Brown                354\n",
       "Strong Dark Brown    105\n",
       "Black                 84\n",
       "Cream                 67\n",
       "Grey                  64\n",
       "Name: Fur, dtype: int64"
      ]
     },
     "execution_count": 215,
     "metadata": {},
     "output_type": "execute_result"
    }
   ],
   "source": [
    "df_1[df_1.buyer_wallet == '0x0c4037b72a0c63340fb530690ea123c612665a34'].Fur.value_counts().head()"
   ]
  },
  {
   "cell_type": "code",
   "execution_count": 216,
   "metadata": {},
   "outputs": [
    {
     "data": {
      "text/plain": [
       "Joint         45\n",
       "Smoke Pipe    37\n",
       "Grillz        32\n",
       "Angry         31\n",
       "Flames        31\n",
       "Name: Mouth, dtype: int64"
      ]
     },
     "execution_count": 216,
     "metadata": {},
     "output_type": "execute_result"
    }
   ],
   "source": [
    "df_1[df_1.buyer_wallet == '0x0c4037b72a0c63340fb530690ea123c612665a34'].Mouth.value_counts().head()"
   ]
  },
  {
   "cell_type": "code",
   "execution_count": 217,
   "metadata": {},
   "outputs": [
    {
     "data": {
      "text/plain": [
       "Eye Patch        39\n",
       "Laser            33\n",
       "Robot Glasses    30\n",
       "Crazy            30\n",
       "High             29\n",
       "Name: Eyes, dtype: int64"
      ]
     },
     "execution_count": 217,
     "metadata": {},
     "output_type": "execute_result"
    }
   ],
   "source": [
    "df_1[df_1.buyer_wallet == '0x0c4037b72a0c63340fb530690ea123c612665a34'].Eyes.value_counts().head()"
   ]
  },
  {
   "cell_type": "code",
   "execution_count": 218,
   "metadata": {},
   "outputs": [
    {
     "data": {
      "text/plain": [
       "0.9340789772727274"
      ]
     },
     "execution_count": 218,
     "metadata": {},
     "output_type": "execute_result"
    }
   ],
   "source": [
    "df_1[df_1.Mouth == 'Joint'].sale_price.mean()"
   ]
  },
  {
   "cell_type": "code",
   "execution_count": 219,
   "metadata": {},
   "outputs": [],
   "source": [
    "#calcualtes the mean sale for a ape mouths\n",
    "total_mean = df_1.sale_price.mean()\n",
    "\n",
    "df_mouth = pd.DataFrame()\n",
    "\n",
    "#loops through each mouth trait\n",
    "for mouth in df_1.Mouth.unique():\n",
    "    \n",
    "    #calcualte the rarity of trair as %\n",
    "    rarity_perc = (all_apes[all_apes.Mouth == mouth].shape[0] / 10000) * 100\n",
    "    \n",
    "    #mean sale of that trait\n",
    "    mean = df_1[df_1.Mouth == mouth].sale_price.mean()\n",
    "    \n",
    "    #create a object with trait, rarity and diff from avg\n",
    "    df_mouth = df_mouth.append({\n",
    "        'mouth': mouth,\n",
    "        'diff':  mean - total_mean,\n",
    "        'rarity': rarity_perc\n",
    "    }, ignore_index=True)"
   ]
  },
  {
   "cell_type": "code",
   "execution_count": 225,
   "metadata": {},
   "outputs": [
    {
     "data": {
      "text/html": [
       "<div>\n",
       "<style scoped>\n",
       "    .dataframe tbody tr th:only-of-type {\n",
       "        vertical-align: middle;\n",
       "    }\n",
       "\n",
       "    .dataframe tbody tr th {\n",
       "        vertical-align: top;\n",
       "    }\n",
       "\n",
       "    .dataframe thead th {\n",
       "        text-align: right;\n",
       "    }\n",
       "</style>\n",
       "<table border=\"1\" class=\"dataframe\">\n",
       "  <thead>\n",
       "    <tr style=\"text-align: right;\">\n",
       "      <th></th>\n",
       "      <th>diff</th>\n",
       "      <th>mouth</th>\n",
       "      <th>rarity</th>\n",
       "    </tr>\n",
       "  </thead>\n",
       "  <tbody>\n",
       "    <tr>\n",
       "      <th>7</th>\n",
       "      <td>0.122524</td>\n",
       "      <td>Flames</td>\n",
       "      <td>3.41</td>\n",
       "    </tr>\n",
       "    <tr>\n",
       "      <th>19</th>\n",
       "      <td>0.073932</td>\n",
       "      <td>Joint</td>\n",
       "      <td>3.25</td>\n",
       "    </tr>\n",
       "    <tr>\n",
       "      <th>5</th>\n",
       "      <td>0.054647</td>\n",
       "      <td>Mustache</td>\n",
       "      <td>3.02</td>\n",
       "    </tr>\n",
       "    <tr>\n",
       "      <th>21</th>\n",
       "      <td>0.029640</td>\n",
       "      <td>Joker</td>\n",
       "      <td>1.71</td>\n",
       "    </tr>\n",
       "    <tr>\n",
       "      <th>18</th>\n",
       "      <td>0.026029</td>\n",
       "      <td>Angry</td>\n",
       "      <td>3.09</td>\n",
       "    </tr>\n",
       "    <tr>\n",
       "      <th>14</th>\n",
       "      <td>0.018221</td>\n",
       "      <td>Baby Pacifier</td>\n",
       "      <td>3.37</td>\n",
       "    </tr>\n",
       "    <tr>\n",
       "      <th>13</th>\n",
       "      <td>-0.012626</td>\n",
       "      <td>Smoke Pipe</td>\n",
       "      <td>3.11</td>\n",
       "    </tr>\n",
       "    <tr>\n",
       "      <th>2</th>\n",
       "      <td>-0.015636</td>\n",
       "      <td>Grillz</td>\n",
       "      <td>3.78</td>\n",
       "    </tr>\n",
       "    <tr>\n",
       "      <th>22</th>\n",
       "      <td>-0.021308</td>\n",
       "      <td>Oh</td>\n",
       "      <td>2.86</td>\n",
       "    </tr>\n",
       "    <tr>\n",
       "      <th>10</th>\n",
       "      <td>-0.024486</td>\n",
       "      <td>Grin Rainbow</td>\n",
       "      <td>3.27</td>\n",
       "    </tr>\n",
       "    <tr>\n",
       "      <th>15</th>\n",
       "      <td>-0.027807</td>\n",
       "      <td>Nose Ring</td>\n",
       "      <td>3.18</td>\n",
       "    </tr>\n",
       "    <tr>\n",
       "      <th>6</th>\n",
       "      <td>-0.032055</td>\n",
       "      <td>Tongue Out</td>\n",
       "      <td>3.16</td>\n",
       "    </tr>\n",
       "    <tr>\n",
       "      <th>3</th>\n",
       "      <td>-0.046200</td>\n",
       "      <td>Yawn</td>\n",
       "      <td>3.29</td>\n",
       "    </tr>\n",
       "    <tr>\n",
       "      <th>8</th>\n",
       "      <td>-0.056906</td>\n",
       "      <td>Bubble Gum</td>\n",
       "      <td>2.80</td>\n",
       "    </tr>\n",
       "    <tr>\n",
       "      <th>17</th>\n",
       "      <td>-0.068154</td>\n",
       "      <td>Corn</td>\n",
       "      <td>3.26</td>\n",
       "    </tr>\n",
       "    <tr>\n",
       "      <th>12</th>\n",
       "      <td>-0.069873</td>\n",
       "      <td>Drool Rainbow</td>\n",
       "      <td>3.26</td>\n",
       "    </tr>\n",
       "    <tr>\n",
       "      <th>0</th>\n",
       "      <td>-0.075341</td>\n",
       "      <td>Grin Gold</td>\n",
       "      <td>3.09</td>\n",
       "    </tr>\n",
       "    <tr>\n",
       "      <th>4</th>\n",
       "      <td>-0.100053</td>\n",
       "      <td>Cigarette</td>\n",
       "      <td>3.23</td>\n",
       "    </tr>\n",
       "    <tr>\n",
       "      <th>20</th>\n",
       "      <td>-0.101786</td>\n",
       "      <td>Beard</td>\n",
       "      <td>3.09</td>\n",
       "    </tr>\n",
       "    <tr>\n",
       "      <th>11</th>\n",
       "      <td>-0.106926</td>\n",
       "      <td>Covid Mask</td>\n",
       "      <td>2.90</td>\n",
       "    </tr>\n",
       "    <tr>\n",
       "      <th>16</th>\n",
       "      <td>-0.128238</td>\n",
       "      <td>Shocked</td>\n",
       "      <td>3.17</td>\n",
       "    </tr>\n",
       "    <tr>\n",
       "      <th>1</th>\n",
       "      <td>-0.130552</td>\n",
       "      <td>Snake</td>\n",
       "      <td>3.30</td>\n",
       "    </tr>\n",
       "    <tr>\n",
       "      <th>9</th>\n",
       "      <td>NaN</td>\n",
       "      <td>NaN</td>\n",
       "      <td>0.00</td>\n",
       "    </tr>\n",
       "  </tbody>\n",
       "</table>\n",
       "</div>"
      ],
      "text/plain": [
       "        diff          mouth  rarity\n",
       "7   0.122524         Flames    3.41\n",
       "19  0.073932          Joint    3.25\n",
       "5   0.054647       Mustache    3.02\n",
       "21  0.029640          Joker    1.71\n",
       "18  0.026029          Angry    3.09\n",
       "14  0.018221  Baby Pacifier    3.37\n",
       "13 -0.012626     Smoke Pipe    3.11\n",
       "2  -0.015636         Grillz    3.78\n",
       "22 -0.021308             Oh    2.86\n",
       "10 -0.024486   Grin Rainbow    3.27\n",
       "15 -0.027807      Nose Ring    3.18\n",
       "6  -0.032055     Tongue Out    3.16\n",
       "3  -0.046200           Yawn    3.29\n",
       "8  -0.056906     Bubble Gum    2.80\n",
       "17 -0.068154           Corn    3.26\n",
       "12 -0.069873  Drool Rainbow    3.26\n",
       "0  -0.075341      Grin Gold    3.09\n",
       "4  -0.100053      Cigarette    3.23\n",
       "20 -0.101786          Beard    3.09\n",
       "11 -0.106926     Covid Mask    2.90\n",
       "16 -0.128238        Shocked    3.17\n",
       "1  -0.130552          Snake    3.30\n",
       "9        NaN            NaN    0.00"
      ]
     },
     "execution_count": 225,
     "metadata": {},
     "output_type": "execute_result"
    }
   ],
   "source": [
    "df_mouth.sort_values(by='diff', ascending=False)"
   ]
  },
  {
   "cell_type": "code",
   "execution_count": 236,
   "metadata": {},
   "outputs": [],
   "source": [
    "#calcualtes the mean sale for a ape hats\n",
    "total_mean = df_1.sale_price.mean()\n",
    "\n",
    "df_fur = pd.DataFrame()\n",
    "\n",
    "#loops through each mouth trait\n",
    "for fur in df_1.Fur.unique():\n",
    "    \n",
    "    #calcualte the rarity of trair as %\n",
    "    rarity_perc = (all_apes[all_apes.Fur == fur].shape[0] / 10000) * 100\n",
    "    \n",
    "    #mean sale of that trait\n",
    "    mean = df_1[df_1.Fur == fur].sale_price.mean()\n",
    "    \n",
    "    diff = mean - total_mean\n",
    "    \n",
    "    try:\n",
    "        mult = (100 / rarity_perc)\n",
    "    except:\n",
    "        mult = 0\n",
    "    \n",
    "    #create a object with trait, rarity and diff from avg\n",
    "    df_fur = df_fur.append({\n",
    "        'fur': fur,\n",
    "        'diff from mean sale': diff,\n",
    "        'rarity %': rarity_perc\n",
    "    }, ignore_index=True)"
   ]
  },
  {
   "cell_type": "code",
   "execution_count": 238,
   "metadata": {},
   "outputs": [
    {
     "data": {
      "text/html": [
       "<div>\n",
       "<style scoped>\n",
       "    .dataframe tbody tr th:only-of-type {\n",
       "        vertical-align: middle;\n",
       "    }\n",
       "\n",
       "    .dataframe tbody tr th {\n",
       "        vertical-align: top;\n",
       "    }\n",
       "\n",
       "    .dataframe thead th {\n",
       "        text-align: right;\n",
       "    }\n",
       "</style>\n",
       "<table border=\"1\" class=\"dataframe\">\n",
       "  <thead>\n",
       "    <tr style=\"text-align: right;\">\n",
       "      <th></th>\n",
       "      <th>diff from mean sale</th>\n",
       "      <th>fur</th>\n",
       "      <th>rarity %</th>\n",
       "    </tr>\n",
       "  </thead>\n",
       "  <tbody>\n",
       "    <tr>\n",
       "      <th>0</th>\n",
       "      <td>-0.079351</td>\n",
       "      <td>Brown</td>\n",
       "      <td>42.43</td>\n",
       "    </tr>\n",
       "    <tr>\n",
       "      <th>2</th>\n",
       "      <td>-0.076621</td>\n",
       "      <td>Strong Dark Brown</td>\n",
       "      <td>10.96</td>\n",
       "    </tr>\n",
       "    <tr>\n",
       "      <th>5</th>\n",
       "      <td>-0.048029</td>\n",
       "      <td>Black</td>\n",
       "      <td>8.68</td>\n",
       "    </tr>\n",
       "    <tr>\n",
       "      <th>6</th>\n",
       "      <td>-0.047238</td>\n",
       "      <td>Cream</td>\n",
       "      <td>8.45</td>\n",
       "    </tr>\n",
       "    <tr>\n",
       "      <th>3</th>\n",
       "      <td>-0.048246</td>\n",
       "      <td>Grey</td>\n",
       "      <td>8.15</td>\n",
       "    </tr>\n",
       "    <tr>\n",
       "      <th>8</th>\n",
       "      <td>-0.099444</td>\n",
       "      <td>Tiger</td>\n",
       "      <td>5.17</td>\n",
       "    </tr>\n",
       "    <tr>\n",
       "      <th>1</th>\n",
       "      <td>0.117851</td>\n",
       "      <td>Zebra</td>\n",
       "      <td>4.81</td>\n",
       "    </tr>\n",
       "    <tr>\n",
       "      <th>9</th>\n",
       "      <td>0.200372</td>\n",
       "      <td>White</td>\n",
       "      <td>4.02</td>\n",
       "    </tr>\n",
       "    <tr>\n",
       "      <th>7</th>\n",
       "      <td>0.062482</td>\n",
       "      <td>Cheetah</td>\n",
       "      <td>2.94</td>\n",
       "    </tr>\n",
       "    <tr>\n",
       "      <th>10</th>\n",
       "      <td>0.669544</td>\n",
       "      <td>Rainbow</td>\n",
       "      <td>1.95</td>\n",
       "    </tr>\n",
       "    <tr>\n",
       "      <th>4</th>\n",
       "      <td>0.689154</td>\n",
       "      <td>Red Devil</td>\n",
       "      <td>1.62</td>\n",
       "    </tr>\n",
       "    <tr>\n",
       "      <th>11</th>\n",
       "      <td>10.474853</td>\n",
       "      <td>Robot</td>\n",
       "      <td>0.35</td>\n",
       "    </tr>\n",
       "    <tr>\n",
       "      <th>12</th>\n",
       "      <td>3.511520</td>\n",
       "      <td>Zombie</td>\n",
       "      <td>0.28</td>\n",
       "    </tr>\n",
       "    <tr>\n",
       "      <th>13</th>\n",
       "      <td>5.503186</td>\n",
       "      <td>Alien</td>\n",
       "      <td>0.12</td>\n",
       "    </tr>\n",
       "  </tbody>\n",
       "</table>\n",
       "</div>"
      ],
      "text/plain": [
       "    diff from mean sale                fur  rarity %\n",
       "0             -0.079351              Brown     42.43\n",
       "2             -0.076621  Strong Dark Brown     10.96\n",
       "5             -0.048029              Black      8.68\n",
       "6             -0.047238              Cream      8.45\n",
       "3             -0.048246               Grey      8.15\n",
       "8             -0.099444              Tiger      5.17\n",
       "1              0.117851              Zebra      4.81\n",
       "9              0.200372              White      4.02\n",
       "7              0.062482            Cheetah      2.94\n",
       "10             0.669544            Rainbow      1.95\n",
       "4              0.689154          Red Devil      1.62\n",
       "11            10.474853              Robot      0.35\n",
       "12             3.511520             Zombie      0.28\n",
       "13             5.503186              Alien      0.12"
      ]
     },
     "execution_count": 238,
     "metadata": {},
     "output_type": "execute_result"
    }
   ],
   "source": [
    "df_fur.sort_values(by='rarity %', ascending=False)"
   ]
  },
  {
   "cell_type": "code",
   "execution_count": 144,
   "metadata": {},
   "outputs": [],
   "source": [
    "import seaborn as sns\n",
    "sns.set(rc={'figure.figsize':(30,10)})"
   ]
  },
  {
   "cell_type": "code",
   "execution_count": 224,
   "metadata": {},
   "outputs": [
    {
     "data": {
      "image/png": "[encoded data removed]",
      "text/plain": [
       "<Figure size 2160x720 with 1 Axes>"
      ]
     },
     "metadata": {},
     "output_type": "display_data"
    }
   ],
   "source": [
    "ax = sns.violinplot(x=df_1['Mouth'], y=df_1[\"sale_price\"])"
   ]
  },
  {
   "cell_type": "code",
   "execution_count": null,
   "metadata": {},
   "outputs": [],
   "source": []
  }
 ],
 "metadata": {
  "interpreter": {
   "hash": "d350f589df2bc36d70cf342ebcc55eca487ae98f642e153f0522f552a885c569"
  },
  "kernelspec": {
   "display_name": "Python 3",
   "language": "python",
   "name": "python3"
  },
  "language_info": {
   "codemirror_mode": {
    "name": "ipython",
    "version": 3
   },
   "file_extension": ".py",
   "mimetype": "text/x-python",
   "name": "python",
   "nbconvert_exporter": "python",
   "pygments_lexer": "ipython3",
   "version": "3.8.8"
  }
 },
 "nbformat": 4,
 "nbformat_minor": 2
}
