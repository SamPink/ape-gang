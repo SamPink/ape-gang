{
 "cells": [
  {
   "cell_type": "code",
   "execution_count": 7,
   "id": "d9058161",
   "metadata": {},
   "outputs": [],
   "source": [
    "import numpy as np\n",
    "import matplotlib.pyplot as plt\n",
    "import pandas as pd\n",
    "from sklearn import linear_model"
   ]
  },
  {
   "cell_type": "code",
   "execution_count": 8,
   "id": "df46ed3d",
   "metadata": {},
   "outputs": [],
   "source": [
    "df = pd.read_csv('../good_mouth.csv')"
   ]
  },
  {
   "cell_type": "code",
   "execution_count": 13,
   "metadata": {},
   "outputs": [
    {
     "data": {
      "text/html": [
       "<div>\n",
       "<style scoped>\n",
       "    .dataframe tbody tr th:only-of-type {\n",
       "        vertical-align: middle;\n",
       "    }\n",
       "\n",
       "    .dataframe tbody tr th {\n",
       "        vertical-align: top;\n",
       "    }\n",
       "\n",
       "    .dataframe thead th {\n",
       "        text-align: right;\n",
       "    }\n",
       "</style>\n",
       "<table border=\"1\" class=\"dataframe\">\n",
       "  <thead>\n",
       "    <tr style=\"text-align: right;\">\n",
       "      <th></th>\n",
       "      <th>Unnamed: 0</th>\n",
       "      <th>mouth</th>\n",
       "      <th>mean</th>\n",
       "      <th>diff</th>\n",
       "      <th>rarity</th>\n",
       "      <th>ape_id</th>\n",
       "      <th>listing_price</th>\n",
       "    </tr>\n",
       "  </thead>\n",
       "  <tbody>\n",
       "    <tr>\n",
       "      <th>0</th>\n",
       "      <td>0</td>\n",
       "      <td>Mustache</td>\n",
       "      <td>1.029561</td>\n",
       "      <td>0.111255</td>\n",
       "      <td>3.02</td>\n",
       "      <td>ApeGang #1340</td>\n",
       "      <td>0.69</td>\n",
       "    </tr>\n",
       "    <tr>\n",
       "      <th>1</th>\n",
       "      <td>1</td>\n",
       "      <td>Bubble Gum</td>\n",
       "      <td>0.853463</td>\n",
       "      <td>-0.064843</td>\n",
       "      <td>2.80</td>\n",
       "      <td>ApeGang #1368</td>\n",
       "      <td>0.50</td>\n",
       "    </tr>\n",
       "    <tr>\n",
       "      <th>2</th>\n",
       "      <td>2</td>\n",
       "      <td>Shocked</td>\n",
       "      <td>0.789718</td>\n",
       "      <td>-0.128589</td>\n",
       "      <td>3.17</td>\n",
       "      <td>ApeGang #6494</td>\n",
       "      <td>0.54</td>\n",
       "    </tr>\n",
       "    <tr>\n",
       "      <th>3</th>\n",
       "      <td>3</td>\n",
       "      <td>Yawn</td>\n",
       "      <td>0.886619</td>\n",
       "      <td>-0.031687</td>\n",
       "      <td>3.29</td>\n",
       "      <td>ApeGang #1858</td>\n",
       "      <td>0.54</td>\n",
       "    </tr>\n",
       "    <tr>\n",
       "      <th>4</th>\n",
       "      <td>4</td>\n",
       "      <td>Baby Pacifier</td>\n",
       "      <td>0.908022</td>\n",
       "      <td>-0.010285</td>\n",
       "      <td>3.37</td>\n",
       "      <td>ApeGang #5623</td>\n",
       "      <td>0.45</td>\n",
       "    </tr>\n",
       "  </tbody>\n",
       "</table>\n",
       "</div>"
      ],
      "text/plain": [
       "   Unnamed: 0          mouth      mean      diff  rarity         ape_id  \\\n",
       "0           0       Mustache  1.029561  0.111255    3.02  ApeGang #1340   \n",
       "1           1     Bubble Gum  0.853463 -0.064843    2.80  ApeGang #1368   \n",
       "2           2        Shocked  0.789718 -0.128589    3.17  ApeGang #6494   \n",
       "3           3           Yawn  0.886619 -0.031687    3.29  ApeGang #1858   \n",
       "4           4  Baby Pacifier  0.908022 -0.010285    3.37  ApeGang #5623   \n",
       "\n",
       "   listing_price  \n",
       "0           0.69  \n",
       "1           0.50  \n",
       "2           0.54  \n",
       "3           0.54  \n",
       "4           0.45  "
      ]
     },
     "execution_count": 13,
     "metadata": {},
     "output_type": "execute_result"
    }
   ],
   "source": [
    "df.head()"
   ]
  },
  {
   "cell_type": "code",
   "execution_count": 24,
   "metadata": {},
   "outputs": [],
   "source": [
    "x = df[['mean', 'rarity']]\n",
    "y = df['listing_price']"
   ]
  },
  {
   "cell_type": "code",
   "execution_count": 25,
   "metadata": {},
   "outputs": [
    {
     "data": {
      "text/plain": [
       "LinearRegression()"
      ]
     },
     "execution_count": 25,
     "metadata": {},
     "output_type": "execute_result"
    }
   ],
   "source": [
    "regr = linear_model.LinearRegression()\n",
    "regr.fit(x, y)"
   ]
  },
  {
   "cell_type": "code",
   "execution_count": 26,
   "metadata": {},
   "outputs": [
    {
     "data": {
      "text/plain": [
       "array([0.60429976])"
      ]
     },
     "execution_count": 26,
     "metadata": {},
     "output_type": "execute_result"
    }
   ],
   "source": [
    "regr.predict([[1, 3]])"
   ]
  },
  {
   "cell_type": "code",
   "execution_count": 17,
   "metadata": {},
   "outputs": [
    {
     "data": {
      "text/plain": [
       "array([0.46649439, 0.0219941 ])"
      ]
     },
     "execution_count": 17,
     "metadata": {},
     "output_type": "execute_result"
    }
   ],
   "source": [
    "regr.coef_"
   ]
  },
  {
   "cell_type": "code",
   "execution_count": 23,
   "metadata": {},
   "outputs": [
    {
     "data": {
      "image/png": "[encoded data removed]",
      "text/plain": [
       "<Figure size 432x288 with 1 Axes>"
      ]
     },
     "metadata": {
      "needs_background": "light"
     },
     "output_type": "display_data"
    }
   ],
   "source": [
    "plt.scatter(\n",
    "    x = df['mean'],\n",
    "    y= df['rarity'],\n",
    "    color='red'\n",
    "  )\n",
    "plt.title('mean', fontsize=14)\n",
    "plt.xlabel('rarity', fontsize=14)\n",
    "plt.ylabel('Stock Index Price', fontsize=14)\n",
    "plt.grid(True)\n",
    "plt.show()"
   ]
  },
  {
   "cell_type": "code",
   "execution_count": null,
   "metadata": {},
   "outputs": [],
   "source": []
  }
 ],
 "metadata": {
  "interpreter": {
   "hash": "d350f589df2bc36d70cf342ebcc55eca487ae98f642e153f0522f552a885c569"
  },
  "kernelspec": {
   "display_name": "Python 3.8.8 64-bit ('base': conda)",
   "name": "python3"
  },
  "language_info": {
   "codemirror_mode": {
    "name": "ipython",
    "version": 3
   },
   "file_extension": ".py",
   "mimetype": "text/x-python",
   "name": "python",
   "nbconvert_exporter": "python",
   "pygments_lexer": "ipython3",
   "version": "3.8.8"
  }
 },
 "nbformat": 4,
 "nbformat_minor": 5
}
